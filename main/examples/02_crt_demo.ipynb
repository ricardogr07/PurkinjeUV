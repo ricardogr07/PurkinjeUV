{
 "cells": [
  {
   "cell_type": "markdown",
   "id": "aa67ea8b",
   "metadata": {
    "colab_type": "text",
    "id": "view-in-github"
   },
   "source": [
    "<a href=\"https://colab.research.google.com/github/ricardogr07/purkinje-uv/blob/feat%2Fcreate-examples-tutorials/examples/02_crt_demo.ipynb\" target=\"_parent\"><img src=\"https://colab.research.google.com/assets/colab-badge.svg\" alt=\"Open In Colab\"/></a>"
   ]
  },
  {
   "cell_type": "markdown",
   "id": "6db2385b",
   "metadata": {
    "id": "6db2385b"
   },
   "source": [
    "# 02 — CRT demo \n",
    "\n",
    "## LV/RV trees, activation, and BiV scenarios \n",
    "\n",
    "This demo builds **LV** and **RV** Purkinje trees on the provided endocardial surfaces, runs a fast activation solver, and visualizes activation on the chambers for several scenarios:\n",
    "\n",
    "- **baseline**: LV and RV start together  \n",
    "- **rv_only**: only RV is paced (LV is unreached → masked)  \n",
    "- **biv**: BiV with a user‐controlled VV delay (`VV_DELAY_MS`)  \n",
    "- **biv_paper**: BiV with the paper’s LV-early preset (−75 ms)\n",
    "\n",
    "We use the **paper ground-truth** seed indices and parameters to reproduce the reference trees.\n"
   ]
  },
  {
   "cell_type": "markdown",
   "id": "888lXg7_Px9e",
   "metadata": {
    "id": "888lXg7_Px9e"
   },
   "source": [
    "## Environment & dependencies\n",
    "\n",
    "This notebook is designed to run in an isolated environment (e.g., Colab).\n",
    "\n",
    "* Installs: `purkinje-uv` and `plotly`  \n",
    "* No GPU is required.  \n",
    "* Output is written under `output/examples/02_crt_demo/`.\n"
   ]
  },
  {
   "cell_type": "code",
   "execution_count": null,
   "id": "82dced4b",
   "metadata": {
    "id": "82dced4b"
   },
   "outputs": [],
   "source": [
    "%pip install -q --upgrade pip purkinje-uv plotly"
   ]
  },
  {
   "cell_type": "code",
   "execution_count": null,
   "id": "1DVe1YM2Oax6",
   "metadata": {
    "id": "1DVe1YM2Oax6"
   },
   "outputs": [],
   "source": [
    "from pathlib import Path\n",
    "import os\n",
    "import json\n",
    "import numpy as np\n",
    "\n",
    "from purkinje_uv import FractalTreeParameters, FractalTree, PurkinjeTree\n",
    "import pyvista as pv\n",
    "import plotly.graph_objects as go"
   ]
  },
  {
   "cell_type": "markdown",
   "id": "UyS-tQVKP7Ld",
   "metadata": {
    "id": "UyS-tQVKP7Ld"
   },
   "source": [
    "## Reproducibility knobs & paths\n",
    "\n",
    "- `SEED` controls NumPy’s RNG (tree growth is deterministic given parameters; this is for ancillary steps).\n",
    "- `LITE=1` uses quicker defaults when we generate parameters automatically (we keep the paper preset here).\n",
    "- `VV_DELAY_MS` controls the **biv** scenario: LV is delayed by this many ms relative to RV.\n"
   ]
  },
  {
   "cell_type": "code",
   "execution_count": null,
   "id": "097bda67",
   "metadata": {
    "id": "097bda67"
   },
   "outputs": [],
   "source": [
    "# Repro + knobs\n",
    "SEED = int(os.getenv(\"EXAMPLES_SEED\", \"1234\"))\n",
    "LITE = bool(int(os.getenv(\"EXAMPLES_LITE\", \"1\")))          # fast by default\n",
    "VV_DELAY_MS = int(os.getenv(\"CRT_VV_DELAY_MS\", \"0\"))       # BiV LV delay vs RV (ms); try -40, 0, +40 later\n",
    "\n",
    "# Locations\n",
    "DATA_DIR = Path(\"data\") / \"crtdemo\"\n",
    "OUT_DIR = Path(\"output\") / \"examples\" / \"02_crt_demo\"\n",
    "OUT_DIR.mkdir(parents=True, exist_ok=True)\n",
    "\n",
    "np.random.seed(SEED)\n",
    "print(f\"SEED={SEED}  LITE={LITE}  VV_DELAY_MS={VV_DELAY_MS}\")\n",
    "print(\"DATA_DIR:\", DATA_DIR)\n",
    "print(\"OUT_DIR:\", OUT_DIR)"
   ]
  },
  {
   "cell_type": "markdown",
   "id": "EBmKtFwjP_RK",
   "metadata": {
    "id": "EBmKtFwjP_RK"
   },
   "source": [
    "## Mesh assets\n",
    "\n",
    "We use the two open-surface endocardial meshes:\n",
    "\n",
    "- `crtdemo_LVendo_heart_cut.obj`\n",
    "- `crtdemo_RVendo_heart_cut.obj`\n",
    "\n",
    "If missing locally, they are downloaded from the repo. We load them via PyVista, clean, and triangulate.\n"
   ]
  },
  {
   "cell_type": "code",
   "execution_count": null,
   "id": "cf2b0170",
   "metadata": {
    "id": "cf2b0170"
   },
   "outputs": [],
   "source": [
    "# Ensure demo OBJ files exist (download from repo if missing)\n",
    "import urllib.request\n",
    "\n",
    "LV_OBJ = DATA_DIR / \"crtdemo_LVendo_heart_cut.obj\"\n",
    "RV_OBJ = DATA_DIR / \"crtdemo_RVendo_heart_cut.obj\"\n",
    "DATA_DIR.mkdir(parents=True, exist_ok=True)\n",
    "\n",
    "def _try_fetch(url: str, dst: Path):\n",
    "    try:\n",
    "        print(\"Downloading:\", url)\n",
    "        with urllib.request.urlopen(url, timeout=30) as r, open(dst, \"wb\") as f:\n",
    "            f.write(r.read())\n",
    "        return True\n",
    "    except Exception as e:\n",
    "        print(\"  failed:\", e)\n",
    "        return False\n",
    "\n",
    "if not LV_OBJ.exists():\n",
    "    for base in [\n",
    "        \"https://raw.githubusercontent.com/ricardogr07/purkinje-uv/main/data/crtdemo/\",\n",
    "        \"https://raw.githubusercontent.com/ricardogr07/purkinje-uv/feat/create-examples-tutorials/data/crtdemo/\",\n",
    "    ]:\n",
    "        if _try_fetch(base + LV_OBJ.name, LV_OBJ):\n",
    "            break\n",
    "\n",
    "if not RV_OBJ.exists():\n",
    "    for base in [\n",
    "        \"https://raw.githubusercontent.com/ricardogr07/purkinje-uv/main/data/crtdemo/\",\n",
    "        \"https://raw.githubusercontent.com/ricardogr07/purkinje-uv/feat/create-examples-tutorials/data/crtdemo/\",\n",
    "    ]:\n",
    "        if _try_fetch(base + RV_OBJ.name, RV_OBJ):\n",
    "            break\n",
    "\n",
    "assert LV_OBJ.exists(), f\"Missing LV OBJ: {LV_OBJ}\"\n",
    "assert RV_OBJ.exists(), f\"Missing RV OBJ: {RV_OBJ}\"\n",
    "print(\"LV_OBJ:\", LV_OBJ)\n",
    "print(\"RV_OBJ:\", RV_OBJ)\n",
    "\n",
    "# Load with PyVista and verify they're open surfaces\n",
    "def load_surface(path: Path) -> pv.PolyData:\n",
    "    mesh = pv.read(str(path))\n",
    "    if not isinstance(mesh, pv.PolyData):\n",
    "        mesh = mesh.extract_geometry()\n",
    "    mesh = mesh.clean().triangulate()\n",
    "    return mesh\n",
    "\n",
    "surf_lv = load_surface(LV_OBJ)\n",
    "surf_rv = load_surface(RV_OBJ)\n",
    "\n",
    "def is_open_surface(pd: pv.PolyData) -> bool:\n",
    "    edges = pd.extract_feature_edges(boundary_edges=True, feature_edges=False,\n",
    "                                     manifold_edges=False, non_manifold_edges=True)\n",
    "    return edges.n_cells > 0\n",
    "\n",
    "print(f\"LV: points={surf_lv.n_points} faces={surf_lv.n_cells} open={is_open_surface(surf_lv)}\")\n",
    "print(f\"RV: points={surf_rv.n_points} faces={surf_rv.n_cells} open={is_open_surface(surf_rv)}\")"
   ]
  },
  {
   "cell_type": "markdown",
   "id": "81edd88e",
   "metadata": {
    "id": "81edd88e"
   },
   "source": [
    "## Paper ground-truth seeds & parameters\n",
    "\n",
    "We follow the published demo by using fixed **vertex indices** for the first two nodes per chamber and the same parameter values:\n",
    "\n",
    "- **Seeds** (0-based): LV `(388, 412)`, RV `(198, 186)`\n",
    "- Key parameters (per demo):  \n",
    "  `N_it=20`, `branch_angle=0.15`, `l_segment=1.0`, `length=8.0`, `w=0.1`,  \n",
    "  plus small chamber-specific **fascicle angles/lengths** and **init_length**.\n",
    "\n",
    "To avoid “initial branch goes out of the domain”, we **retry** with a shorter `init_length` automatically.\n"
   ]
  },
  {
   "cell_type": "code",
   "execution_count": null,
   "id": "d285a100",
   "metadata": {
    "id": "d285a100"
   },
   "outputs": [],
   "source": [
    "# --- Paper ground-truth preset (from PurkinjeECG demo) ---\n",
    "\n",
    "from dataclasses import asdict\n",
    "\n",
    "# 0-based vertex indices on the demo meshes (LV: 441 pts, RV: 817 pts in our copy)\n",
    "LV_SEEDS = (388, 412)\n",
    "RV_SEEDS = (198, 186)\n",
    "\n",
    "# Ground-truth values (already scaled in the demo: 0.5 on lengths, 0.1 on angles)\n",
    "LV_INIT_LENGTH = float(35.931537038275316)\n",
    "RV_INIT_LENGTH = float(79.86354832236707)\n",
    "\n",
    "LV_FAS_LEN = [float(0.5*4.711579058738858), float(0.5*9.129484609771032)]\n",
    "RV_FAS_LEN = [float(0.5*21.703867933650002), float(0.5*5.79561866201451)]\n",
    "\n",
    "LV_FAS_ANG = [float(0.1*0.14448952070696136), float(0.1*0.23561944901923448)]\n",
    "RV_FAS_ANG = [float(0.1*0.23561944901923448), float(0.1*0.23561944901923448)]\n",
    "\n",
    "COMMON = dict(\n",
    "    length=8.0,          # step length along branches\n",
    "    w=0.1,               # lateral bias\n",
    "    l_segment=1.0,       # base segment length\n",
    "    branch_angle=0.15,   # split angle\n",
    "    N_it=20              # depth\n",
    ")\n",
    "\n",
    "def clamp_seeds(surf, seeds):\n",
    "    n = surf.n_points\n",
    "    return tuple(int(max(0, min(n-1, s))) for s in seeds)\n",
    "\n",
    "LV_SEEDS = clamp_seeds(surf_lv, LV_SEEDS)\n",
    "RV_SEEDS = clamp_seeds(surf_rv, RV_SEEDS)\n",
    "\n",
    "def build_params_paper(chamber, meshfile, seeds):\n",
    "    if chamber == \"LV\":\n",
    "        init_len = LV_INIT_LENGTH\n",
    "        fas_len  = LV_FAS_LEN\n",
    "        fas_ang  = LV_FAS_ANG\n",
    "    else:\n",
    "        init_len = RV_INIT_LENGTH\n",
    "        fas_len  = RV_FAS_LEN\n",
    "        fas_ang  = RV_FAS_ANG\n",
    "    return FractalTreeParameters(\n",
    "        meshfile=str(meshfile),\n",
    "        init_node_id=seeds[0],\n",
    "        second_node_id=seeds[1],\n",
    "        init_length=init_len,\n",
    "        length=COMMON[\"length\"],\n",
    "        w=COMMON[\"w\"],\n",
    "        l_segment=COMMON[\"l_segment\"],\n",
    "        fascicles_length=fas_len,\n",
    "        fascicles_angles=fas_ang,\n",
    "        branch_angle=COMMON[\"branch_angle\"],\n",
    "        N_it=COMMON[\"N_it\"],\n",
    "    )\n",
    "\n",
    "def with_init_length(p: FractalTreeParameters, new_init):\n",
    "    # dataclass is frozen; rebuild with the updated init_length\n",
    "    d = asdict(p)\n",
    "    d[\"init_length\"] = float(new_init)\n",
    "    return FractalTreeParameters(**d)\n",
    "\n",
    "def grow_with_retry(params, scales=(1.0, 0.75, 0.5, 0.35, 0.25)):\n",
    "    last_err = None\n",
    "    for s in scales:\n",
    "        p_try = with_init_length(params, params.init_length * s)\n",
    "        try:\n",
    "            ft = FractalTree(params=p_try)\n",
    "            ft.grow_tree()\n",
    "            return ft, p_try\n",
    "        except RuntimeError as e:\n",
    "            last_err = e\n",
    "            if \"out of the domain\" in str(e):\n",
    "                continue\n",
    "            raise\n",
    "    raise RuntimeError(f\"Failed to grow even after shrinking init_length. Last error: {last_err}\")\n",
    "\n",
    "# Build params and grow using the paper preset\n",
    "params_lv = build_params_paper(\"LV\", LV_OBJ, LV_SEEDS)\n",
    "params_rv = build_params_paper(\"RV\", RV_OBJ, RV_SEEDS)\n",
    "print(\"Paper preset params (LV):\", params_lv)\n",
    "print(\"Paper preset params (RV):\", params_rv)"
   ]
  },
  {
   "cell_type": "markdown",
   "id": "Fky4xrfhQHpm",
   "metadata": {
    "id": "Fky4xrfhQHpm"
   },
   "source": [
    "## Grow LV/RV trees and export\n",
    "\n",
    "After growth we report node/edge/PMJ counts and export:\n",
    "\n",
    "- `lv_tree_AT.vtu`, `rv_tree_AT.vtu` — trees with activation arrays\n",
    "- `lv_pmj.vtu`, `rv_pmj.vtu`         — PMJ locations\n",
    "\n",
    "A quick sanity activation is run per chamber (root @ 0 s) to verify ranges.\n"
   ]
  },
  {
   "cell_type": "code",
   "execution_count": null,
   "id": "QS5bepNXMMmk",
   "metadata": {
    "id": "QS5bepNXMMmk"
   },
   "outputs": [],
   "source": [
    "ft_lv, params_lv = grow_with_retry(params_lv)\n",
    "ft_rv, params_rv = grow_with_retry(params_rv)\n",
    "\n",
    "nodes_lv, edges_lv, pmj_lv = np.asarray(ft_lv.nodes_xyz), np.asarray(ft_lv.connectivity), np.asarray(ft_lv.end_nodes)\n",
    "nodes_rv, edges_rv, pmj_rv = np.asarray(ft_rv.nodes_xyz), np.asarray(ft_rv.connectivity), np.asarray(ft_rv.end_nodes)\n",
    "\n",
    "print(f\"LV: nodes={len(nodes_lv)} edges={len(edges_lv)} pmj={len(pmj_lv)}\")\n",
    "print(f\"RV: nodes={len(nodes_rv)} edges={len(edges_rv)} pmj={len(pmj_rv)}\")"
   ]
  },
  {
   "cell_type": "code",
   "execution_count": null,
   "id": "Vo8oQOj3MP82",
   "metadata": {
    "id": "Vo8oQOj3MP82"
   },
   "outputs": [],
   "source": [
    "def solve_activation(P: PurkinjeTree, sources, unit=\"s\"):\n",
    "    x0 = np.array([s[0] for s in sources], dtype=int)\n",
    "    t  = np.array([float(s[1]) for s in sources], dtype=float)\n",
    "    if unit == \"ms\":\n",
    "        t = t / 1000.0\n",
    "    return P.activate_fim(x0=x0, x0_vals=t, return_only_pmj=False)"
   ]
  },
  {
   "cell_type": "code",
   "execution_count": null,
   "id": "005186fc",
   "metadata": {
    "id": "005186fc"
   },
   "outputs": [],
   "source": [
    "# Build PurkinjeTree objects from these ground-truth trees\n",
    "P_lv = PurkinjeTree(nodes_lv, edges_lv, pmj_lv)\n",
    "P_rv = PurkinjeTree(nodes_rv, edges_rv, pmj_rv)\n",
    "\n",
    "# quick baseline sanity\n",
    "AT_lv_baseline = solve_activation(P_lv, sources=[(0, 0.0)])\n",
    "AT_rv_baseline = solve_activation(P_rv, sources=[(0, 0.0)])\n",
    "print(\"Baseline sanity — LV AT(min/max):\", float(AT_lv_baseline.min()), float(AT_lv_baseline.max()))\n",
    "print(\"Baseline sanity — RV AT(min/max):\", float(AT_rv_baseline.min()), float(AT_rv_baseline.max()))\n",
    "\n",
    "# (optional: rename *_gt.vtu if you like)\n",
    "lv_tree_path = OUT_DIR / \"lv_tree_AT.vtu\"\n",
    "rv_tree_path = OUT_DIR / \"rv_tree_AT.vtu\"\n",
    "lv_pmj_path  = OUT_DIR / \"lv_pmj.vtu\"\n",
    "rv_pmj_path  = OUT_DIR / \"rv_pmj.vtu\"\n",
    "\n",
    "P_lv.save(str(lv_tree_path)); P_lv.save_pmjs(str(lv_pmj_path))\n",
    "P_rv.save(str(rv_tree_path)); P_rv.save_pmjs(str(rv_pmj_path))\n",
    "\n",
    "print(\"Wrote:\")\n",
    "print(\" -\", lv_tree_path)\n",
    "print(\" -\", rv_tree_path)\n",
    "print(\" -\", lv_pmj_path)\n",
    "print(\" -\", rv_pmj_path)"
   ]
  },
  {
   "cell_type": "markdown",
   "id": "67688ac6",
   "metadata": {
    "id": "67688ac6"
   },
   "source": [
    "## Merge & activation scenarios\n",
    "\n",
    "We merge LV and RV into a single disconnected tree (LV nodes first, then RV) and define:\n",
    "\n",
    "- **baseline**: `[(LV, 0.0), (RV, 0.0)]`\n",
    "- **rv_only**: `[(RV, 0.0)]` → LV becomes unreached (we mask huge times)\n",
    "- **biv**: `[(RV, 0.0), (LV, VV_DELAY_MS/1000)]`\n",
    "- **biv_paper**: `[(LV, 0.0), (RV, 0.075)]` for `ROOT_TIME_MS = -75`\n",
    "\n",
    "> Units: the solver expects seconds; we convert milliseconds as needed.\n"
   ]
  },
  {
   "cell_type": "code",
   "execution_count": null,
   "id": "oNTHS_mNNOUS",
   "metadata": {
    "id": "oNTHS_mNNOUS"
   },
   "outputs": [],
   "source": [
    "# --- Helpers + Merge LV/RV into a single (disconnected) tree ---\n",
    "\n",
    "INF_CUTOFF = 1e6  # treat >= this as \"unreached\" for display\n",
    "\n",
    "def merge_trees(nodes_a, edges_a, pmj_a, nodes_b, edges_b, pmj_b):\n",
    "    nA = nodes_a.shape[0]\n",
    "    nodes = np.vstack([nodes_a, nodes_b])\n",
    "    edges = np.vstack([edges_a, edges_b + nA])\n",
    "    pmj   = np.concatenate([pmj_a, pmj_b + nA])\n",
    "    return nodes, edges, pmj\n",
    "\n",
    "def build_P(nodes, edges, pmj) -> PurkinjeTree:\n",
    "    return PurkinjeTree(\n",
    "        nodes=np.asarray(nodes, dtype=float),\n",
    "        connectivity=np.asarray(edges, dtype=int),\n",
    "        end_nodes=np.asarray(pmj, dtype=int)\n",
    "    )\n",
    "\n",
    "def nearest_map_activation(surface: pv.PolyData, nodes_xyz: np.ndarray, AT: np.ndarray, chunk=2000):\n",
    "    \"\"\"Nearest-neighbor map of node AT to each surface vertex.\"\"\"\n",
    "    pts = surface.points\n",
    "    out = np.empty(pts.shape[0], dtype=float)\n",
    "    for i in range(0, pts.shape[0], chunk):\n",
    "        j = min(i + chunk, pts.shape[0])\n",
    "        d2 = np.sum((pts[i:j, None, :] - nodes_xyz[None, :, :])**2, axis=2)\n",
    "        out[i:j] = AT[np.argmin(d2, axis=1)]\n",
    "    s = surface.copy(deep=True)\n",
    "    s.point_data.clear()\n",
    "    s.point_data[\"AT\"] = out\n",
    "    return s"
   ]
  },
  {
   "cell_type": "code",
   "execution_count": null,
   "id": "tEHeDajNMzOn",
   "metadata": {
    "id": "tEHeDajNMzOn"
   },
   "outputs": [],
   "source": [
    "# Merge\n",
    "nodes_biv, edges_biv, pmj_biv = merge_trees(nodes_lv, edges_lv, pmj_lv, nodes_rv, edges_rv, pmj_rv)\n",
    "P_biv = build_P(nodes_biv, edges_biv, pmj_biv)\n",
    "\n",
    "# Root indices in merged space (LV block first, then RV)\n",
    "n_lv = nodes_lv.shape[0]\n",
    "idx_lv_root = 0\n",
    "idx_rv_root = n_lv\n",
    "\n",
    "print(\"Merged tree:\", nodes_biv.shape, edges_biv.shape, pmj_biv.shape)\n",
    "print(\"Root indices → LV:\", idx_lv_root, \"RV:\", idx_rv_root)"
   ]
  },
  {
   "cell_type": "code",
   "execution_count": null,
   "id": "AXeJX1ezNuLe",
   "metadata": {
    "id": "AXeJX1ezNuLe"
   },
   "outputs": [],
   "source": [
    "# --- Scenarios: baseline, rv_only, biv (uses VV_DELAY_MS from above) ---\n",
    "\n",
    "def finite_minmax(a):\n",
    "    f = np.isfinite(a) & (a < INF_CUTOFF)\n",
    "    return (float(np.nanmin(a[f])) if np.any(f) else np.nan), (float(np.nanmax(a[f])) if np.any(f) else np.nan)\n",
    "\n",
    "scenarios = {}\n",
    "\n",
    "# both roots @ 0\n",
    "scenarios[\"baseline\"] = solve_activation(P_biv, [(idx_lv_root, 0.0), (idx_rv_root, 0.0)])\n",
    "\n",
    "# RV only (LV should be \"unreached\" → very large)\n",
    "scenarios[\"rv_only\"]  = solve_activation(P_biv, [(idx_rv_root, 0.0)])\n",
    "\n",
    "# BiV: RV @ 0, LV @ delay (ms → s)\n",
    "scenarios[\"biv\"]      = solve_activation(P_biv, [(idx_rv_root, 0.0), (idx_lv_root, VV_DELAY_MS/1000.0)])\n",
    "\n",
    "\n",
    "# BiV with paper-style VV offset (LV early by 75 ms if negative)\n",
    "ROOT_TIME_MS = -75.0  # LV earlier by 75 ms (paper demo)\n",
    "src = ([(idx_lv_root, 0.0), (idx_rv_root, abs(ROOT_TIME_MS)/1000.0)]\n",
    "       if ROOT_TIME_MS < 0\n",
    "       else [(idx_rv_root, 0.0), (idx_lv_root, abs(ROOT_TIME_MS)/1000.0)])\n",
    "scenarios[\"biv_paper\"] = solve_activation(P_biv, src)\n",
    "\n",
    "for name, AT in scenarios.items():\n",
    "    lo, hi = finite_minmax(AT)\n",
    "    print(f\"{name}: AT finite min/max = {lo:.4f} / {hi:.4f}\")"
   ]
  },
  {
   "cell_type": "markdown",
   "id": "14P1wzOwQRW7",
   "metadata": {
    "id": "14P1wzOwQRW7"
   },
   "source": [
    "## Map activation to surfaces & save VTP\n",
    "\n",
    "Activation at nodes is transferred to the LV/RV surfaces via nearest neighbor and written as:\n",
    "\n",
    "- `lv_surface_AT_<scenario>.vtp`\n",
    "- `rv_surface_AT_<scenario>.vtp`\n",
    "\n",
    "Mapped scalar name: **`AT`**. Extremely large values (unreached) are replaced with `NaN` to keep colorbars useful.\n"
   ]
  },
  {
   "cell_type": "code",
   "execution_count": null,
   "id": "3MznUB4mNwWE",
   "metadata": {
    "id": "3MznUB4mNwWE"
   },
   "outputs": [],
   "source": [
    "# --- Map node AT → LV/RV surfaces and export VTP per scenario ---\n",
    "\n",
    "def export_surface_AT(name: str, AT_biv: np.ndarray):\n",
    "    # split per chamber\n",
    "    AT_lv = AT_biv[:n_lv]\n",
    "    AT_rv = AT_biv[n_lv:]\n",
    "    # map to surfaces\n",
    "    lv_surf = nearest_map_activation(surf_lv, nodes_lv, AT_lv)\n",
    "    rv_surf = nearest_map_activation(surf_rv, nodes_rv, AT_rv)\n",
    "    # optionally mask huge times to NaN for nicer colorbars in viewers\n",
    "    for s in (lv_surf, rv_surf):\n",
    "        if \"AT\" in s.point_data:\n",
    "            at = s.point_data[\"AT\"]\n",
    "            at = np.where(np.isfinite(at) & (at < INF_CUTOFF), at, np.nan)\n",
    "            s.point_data[\"AT\"] = at\n",
    "    # save\n",
    "    lv_path = OUT_DIR / f\"lv_surface_AT_{name}.vtp\"\n",
    "    rv_path = OUT_DIR / f\"rv_surface_AT_{name}.vtp\"\n",
    "    lv_surf.save(str(lv_path))\n",
    "    rv_surf.save(str(rv_path))\n",
    "    print(\"Saved:\", lv_path.name, \"|\", rv_path.name)\n",
    "\n",
    "for scen, AT in scenarios.items():\n",
    "    export_surface_AT(scen, AT)"
   ]
  },
  {
   "cell_type": "code",
   "execution_count": null,
   "id": "_kiSb804Nxgu",
   "metadata": {
    "id": "_kiSb804Nxgu"
   },
   "outputs": [],
   "source": [
    "# --- Save the merged tree geometry per scenario (same geometry each time) ---\n",
    "\n",
    "def save_tree_geom(name: str):\n",
    "    Ptmp = build_P(nodes_biv, edges_biv, pmj_biv)\n",
    "    path = OUT_DIR / f\"biv_tree_{name}.vtu\"\n",
    "    Ptmp.save(str(path))\n",
    "    print(\"Saved:\", path.name)\n",
    "\n",
    "for scen in scenarios.keys():\n",
    "    save_tree_geom(scen)"
   ]
  },
  {
   "cell_type": "markdown",
   "id": "d871299f",
   "metadata": {
    "id": "d871299f"
   },
   "source": [
    "## Interactive 3D viewer (Plotly)\n",
    "\n",
    "Use the dropdown to switch scenarios. Layers include:\n",
    "\n",
    "- LV/RV **surfaces** colored by `AT` (semi-transparent)\n",
    "- LV/RV **tree polylines** (bold, high contrast)\n",
    "- Node **points** colored by `AT`\n",
    "- **PMJs** (squares)\n",
    "\n",
    "Tips:\n",
    "- Click legend entries to toggle layers.\n",
    "- Adjust styling at the top of the cell:\n",
    "  - `SURF_OPACITY` (e.g., `0.08–0.15`)\n",
    "  - `TREE_WIDTH` (e.g., `3–9`)\n",
    "  - `NODE_SIZE`, `PMJ_SIZE`\n"
   ]
  },
  {
   "cell_type": "code",
   "execution_count": null,
   "id": "gxkps5DHN233",
   "metadata": {
    "id": "gxkps5DHN233"
   },
   "outputs": [],
   "source": [
    "# --- Plotly viewer with scenario dropdown (Colab-friendly, high-contrast) ---\n",
    "\n",
    "SURF_OPACITY = 0.12\n",
    "TREE_WIDTH   = 3\n",
    "NODE_SIZE    = 5\n",
    "PMJ_SIZE     = 4\n",
    "LV_TREE_COL  = \"#111111\"\n",
    "RV_TREE_COL  = \"#2b6cb0\"\n",
    "\n",
    "\n",
    "def mesh3d_with_AT(surface: pv.PolyData, name):\n",
    "    pts = surface.points\n",
    "    faces = surface.faces.reshape(-1, 4)[:, 1:]\n",
    "    at = surface.point_data.get(\"AT\", None)\n",
    "    return go.Mesh3d(\n",
    "        x=pts[:,0], y=pts[:,1], z=pts[:,2],\n",
    "        i=faces[:,0], j=faces[:,1], k=faces[:,2],\n",
    "        name=name, opacity=SURF_OPACITY,\n",
    "        intensity=at if at is not None else None,\n",
    "        colorscale=\"Viridis\",\n",
    "        showscale=True if at is not None else False,\n",
    "        colorbar=dict(title=\"AT\") if at is not None else None,\n",
    "        lighting=dict(ambient=0.6, diffuse=0.6)\n",
    "    )\n",
    "\n",
    "def line_segments(points: np.ndarray, edges: np.ndarray, name, color, width=TREE_WIDTH):\n",
    "    xs, ys, zs = [], [], []\n",
    "    for u, v in edges:\n",
    "        xs += [points[u,0], points[v,0], None]\n",
    "        ys += [points[u,1], points[v,1], None]\n",
    "        zs += [points[u,2], points[v,2], None]\n",
    "    return go.Scatter3d(x=xs, y=ys, z=zs, mode=\"lines\",\n",
    "                        line=dict(width=width, color=color),\n",
    "                        name=name, showlegend=True)\n",
    "\n",
    "def node_points(points: np.ndarray, at: np.ndarray, name):\n",
    "    c = np.where(np.isfinite(at) & (at < INF_CUTOFF), at, np.nan)\n",
    "    return go.Scatter3d(\n",
    "        x=points[:,0], y=points[:,1], z=points[:,2],\n",
    "        mode=\"markers\", name=name, showlegend=True,\n",
    "        marker=dict(size=NODE_SIZE, color=c, colorscale=\"Viridis\",\n",
    "                    line=dict(width=0.8, color=\"white\"),\n",
    "                    opacity=0.98, showscale=False)\n",
    "    )\n",
    "\n",
    "def pmj_points(points: np.ndarray, name, color):\n",
    "    if points.size == 0:\n",
    "        return go.Scatter3d(x=[], y=[], z=[], mode=\"markers\", name=name)\n",
    "    return go.Scatter3d(\n",
    "        x=points[:,0], y=points[:,1], z=points[:,2],\n",
    "        mode=\"markers\", name=name, showlegend=True,\n",
    "        marker=dict(size=PMJ_SIZE, color=color, symbol=\"square\", opacity=0.95)\n",
    "    )\n",
    "\n",
    "# Prepare per-scenario surfaces (already saved above, but we’ll compute in-memory again)\n",
    "surfaces_by_scen = {}\n",
    "ats_nodes_by_scen = {}\n",
    "for scen, AT in scenarios.items():\n",
    "    AT_lv = AT[:n_lv]\n",
    "    AT_rv = AT[n_lv:]\n",
    "    lv_surf = nearest_map_activation(surf_lv, nodes_lv, AT_lv)\n",
    "    rv_surf = nearest_map_activation(surf_rv, nodes_rv, AT_rv)\n",
    "    # mask huge for display\n",
    "    for s in (lv_surf, rv_surf):\n",
    "        at = s.point_data[\"AT\"]\n",
    "        s.point_data[\"AT\"] = np.where(np.isfinite(at) & (at < INF_CUTOFF), at, np.nan)\n",
    "    surfaces_by_scen[scen] = (lv_surf, rv_surf)\n",
    "    ats_nodes_by_scen[scen] = (AT_lv, AT_rv)\n",
    "\n",
    "pmj_coords_lv = nodes_lv[pmj_lv] if pmj_lv.size else np.empty((0,3))\n",
    "pmj_coords_rv = nodes_rv[pmj_rv] if pmj_rv.size else np.empty((0,3))\n",
    "\n",
    "# scenario order\n",
    "ordered   = [\"baseline\", \"rv_only\", \"biv\", \"biv_paper\"]\n",
    "scen_list = [s for s in ordered if s in scenarios] or list(scenarios.keys())\n",
    "\n",
    "\n",
    "# build traces\n",
    "traces, masks = [], []\n",
    "for scen in scen_list:\n",
    "    lv_surf, rv_surf = surfaces_by_scen[scen]\n",
    "    AT_lv, AT_rv = ats_nodes_by_scen[scen]\n",
    "\n",
    "    traces += [\n",
    "        mesh3d_with_AT(lv_surf, \"LV surface\"),\n",
    "        mesh3d_with_AT(rv_surf, \"RV surface\"),\n",
    "        line_segments(nodes_lv, edges_lv, \"LV tree\", LV_TREE_COL),\n",
    "        line_segments(nodes_rv, edges_rv, \"RV tree\", RV_TREE_COL),\n",
    "        node_points(nodes_lv, AT_lv, \"LV nodes (AT)\"),\n",
    "        node_points(nodes_rv, AT_rv, \"RV nodes (AT)\"),\n",
    "        pmj_points(pmj_coords_lv, \"LV PMJs\", \"crimson\"),\n",
    "        pmj_points(pmj_coords_rv, \"RV PMJs\", \"orange\"),\n",
    "    ]\n",
    "    mask = [False] * (8 * len(scen_list))\n",
    "    base = scen_list.index(scen) * 8\n",
    "    for k in range(base, base+8): mask[k] = True\n",
    "    masks.append(mask)\n",
    "\n",
    "fig = go.Figure(data=traces)\n",
    "# show first scenario\n",
    "if masks:\n",
    "    for tr, vis in zip(fig.data, masks[0]):\n",
    "        tr.visible = vis\n",
    "\n",
    "# dropdown\n",
    "fig.update_layout(\n",
    "    updatemenus=[dict(type=\"dropdown\",\n",
    "                      x=0.01, y=0.99, showactive=True,\n",
    "                      buttons=[dict(method=\"update\", label=sc,\n",
    "                                    args=[{\"visible\": masks[i]}])\n",
    "                               for i, sc in enumerate(scen_list)])],\n",
    "    scene=dict(aspectmode=\"data\"),\n",
    "    margin=dict(l=0, r=0, t=30, b=0),\n",
    "    title=f\"CRT Demo — scenarios: {', '.join(scen_list)}\"\n",
    ")\n",
    "fig.show()"
   ]
  },
  {
   "cell_type": "markdown",
   "id": "B9i76-CfQWzI",
   "metadata": {
    "id": "B9i76-CfQWzI"
   },
   "source": [
    "## Tuning & variants\n",
    "\n",
    "- Want denser coverage? Increase `N_it` or `length` (step) slightly.\n",
    "- Shift VV timing: set `VV_DELAY_MS` at the top (e.g., `-40`, `0`, `+40`).\n",
    "- Compare to paper timing: use `biv_paper` (LV early by 75 ms).\n",
    "- Different seeds: replace `LV_SEEDS` / `RV_SEEDS` or switch to auto-seeding.\n"
   ]
  },
  {
   "cell_type": "markdown",
   "id": "ESIaBEZgQZSe",
   "metadata": {
    "id": "ESIaBEZgQZSe"
   },
   "source": [
    "## Troubleshooting\n",
    "\n",
    "- **HTTP 404 on OBJ**: ensure the data branch is reachable; the notebook will try both `main` and the examples branch.\n",
    "- **“Initial branch goes out of the domain”**: the notebook will retry with a shorter `init_length`. If it persists, pick a different seed pair.\n",
    "- **Flat colorbar in `rv_only`**: expected — unreached LV is masked to `NaN`.\n",
    "- **Slow mapping**: reduce vertex count of the surface or increase batch size in `nearest_map_activation`.\n"
   ]
  }
 ],
 "metadata": {
  "accelerator": "GPU",
  "colab": {
   "gpuType": "T4",
   "include_colab_link": true,
   "provenance": []
  },
  "kernelspec": {
   "display_name": "Python 3",
   "name": "python3"
  }
 },
 "nbformat": 4,
 "nbformat_minor": 5
}
