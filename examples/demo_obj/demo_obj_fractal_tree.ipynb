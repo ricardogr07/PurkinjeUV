{
 "cells": [
  {
   "cell_type": "markdown",
   "id": "57fc20d0",
   "metadata": {},
   "source": [
    "# Example: Generate Fractal Tree on a Mesh\n",
    "\n",
    "This notebook demonstrates how to generate a Purkinje-like fractal tree on a surface mesh using the `Fractal_Tree_3D` function.\n",
    "\n",
    "This:\n",
    "- Load a mesh (e.g. a sphere)\n",
    "- Set up generation parameters\n",
    "- Run the fractal growth algorithm"
   ]
  },
  {
   "cell_type": "code",
   "execution_count": 1,
   "id": "3ea37a73",
   "metadata": {},
   "outputs": [],
   "source": [
    "# Install required packages\n",
    "#!pip install -q numpy pyvista trame purkinje_uv \"pyvista[jupyter]\""
   ]
  },
  {
   "cell_type": "code",
   "execution_count": 6,
   "id": "9c3bcfbe",
   "metadata": {},
   "outputs": [],
   "source": [
    "from pathlib import Path\n",
    "from time import time\n",
    "\n",
    "import pyvista as pv\n",
    "pv.set_jupyter_backend(\"trame\")\n",
    "\n",
    "import sys\n",
    "from pathlib import Path\n",
    "\n",
    "sys.path.append(str(Path.cwd().parent))\n",
    "\n",
    "from example_fractal_tree_3d import Fractal_Tree_3D\n",
    "from example_parameters import Parameters"
   ]
  },
  {
   "cell_type": "code",
   "execution_count": 9,
   "id": "6df2c23f",
   "metadata": {},
   "outputs": [
    {
     "name": "stdout",
     "output_type": "stream",
     "text": [
      "Using mesh file: C:\\git\\PurkinjeUV\\data\\sphere.obj\n"
     ]
    }
   ],
   "source": [
    "notebook_dir = Path.cwd()\n",
    "project_root = notebook_dir.parent.parent\n",
    "mesh_path = (project_root / \"data\" / \"sphere.obj\").resolve()\n",
    "\n",
    "assert mesh_path.is_file(), f\"Mesh file not found: {mesh_path}\"\n",
    "print(f\"Using mesh file: {mesh_path}\")"
   ]
  },
  {
   "cell_type": "code",
   "execution_count": 10,
   "id": "97822609",
   "metadata": {},
   "outputs": [],
   "source": [
    "param = Parameters()\n",
    "param.save = True\n",
    "param.save_paraview = True\n",
    "param.meshfile = str(mesh_path)\n",
    "param.filename = \"output/fractal_tree\""
   ]
  },
  {
   "cell_type": "code",
   "execution_count": 11,
   "id": "4283e81a",
   "metadata": {},
   "outputs": [],
   "source": [
    "from pathlib import Path\n",
    "Path(\"output\").mkdir(exist_ok=True)"
   ]
  },
  {
   "cell_type": "code",
   "execution_count": 12,
   "id": "3c16e162",
   "metadata": {},
   "outputs": [
    {
     "name": "stdout",
     "output_type": "stream",
     "text": [
      "no nodes to consider\n",
      "no nodes to consider\n",
      "no nodes to consider\n",
      "Finished growing, writing paraview file\n",
      "Fractal tree generated in 4.62 s\n"
     ]
    }
   ],
   "source": [
    "tstart = time()\n",
    "branches, nodes = Fractal_Tree_3D(param)\n",
    "print(f\"Fractal tree generated in {time() - tstart:.2f} s\")"
   ]
  },
  {
   "cell_type": "code",
   "execution_count": 21,
   "id": "260326f3",
   "metadata": {},
   "outputs": [
    {
     "data": {
      "application/vnd.jupyter.widget-view+json": {
       "model_id": "f216d3edbee4457b8caa75b091ee8319",
       "version_major": 2,
       "version_minor": 0
      },
      "text/plain": [
       "Widget(value='<iframe src=\"http://localhost:54983/index.html?ui=P_0x1a9d8eb62c0_3&reconnect=auto\" class=\"pyvis…"
      ]
     },
     "metadata": {},
     "output_type": "display_data"
    }
   ],
   "source": [
    "# Load the tree and surface mesh\n",
    "sphere = pv.read(mesh_path)\n",
    "tree = pv.read(\"output/fractal_tree.vtu\")\n",
    "\n",
    "\n",
    "# Set up PyVista plotter\n",
    "plotter = pv.Plotter(window_size=(800, 600))\n",
    "plotter.set_background(\"white\")\n",
    "\n",
    "# Add mesh surface\n",
    "plotter.add_mesh(\n",
    "    sphere, style=\"surface\", color=\"lightgray\", opacity=0.15,\n",
    "    smooth_shading=True, specular=0.5, specular_power=15,\n",
    "    label=\"Sphere Surface\"\n",
    ")\n",
    "\n",
    "# Add tree tube\n",
    "plotter.add_mesh(\n",
    "    tree, color=\"royalblue\", label=\"Fractal Tree\",\n",
    "    ambient=0.2, diffuse=0.8, specular=1.0, specular_power=30\n",
    ")\n",
    "\n",
    "plotter.view_vector((1, 1, 1), viewup=(0, 0, 1))\n",
    "plotter.add_legend()\n",
    "plotter.show()"
   ]
  }
 ],
 "metadata": {
  "kernelspec": {
   "display_name": "Python 3",
   "language": "python",
   "name": "python3"
  },
  "language_info": {
   "codemirror_mode": {
    "name": "ipython",
    "version": 3
   },
   "file_extension": ".py",
   "mimetype": "text/x-python",
   "name": "python",
   "nbconvert_exporter": "python",
   "pygments_lexer": "ipython3",
   "version": "3.10.6"
  }
 },
 "nbformat": 4,
 "nbformat_minor": 5
}
