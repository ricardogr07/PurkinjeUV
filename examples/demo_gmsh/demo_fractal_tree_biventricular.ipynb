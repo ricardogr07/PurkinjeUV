{
 "cells": [
  {
   "cell_type": "code",
   "execution_count": null,
   "id": "5d9d547b",
   "metadata": {},
   "outputs": [
    {
     "name": "stdout",
     "output_type": "stream",
     "text": [
      "Requirement already satisfied: cardiac-geometries in c:\\users\\ricar\\appdata\\local\\programs\\python\\python310\\lib\\site-packages (1.1.7)\n",
      "Requirement already satisfied: cardiac-geometries-core>=0.2.1 in c:\\users\\ricar\\appdata\\local\\programs\\python\\python310\\lib\\site-packages (from cardiac-geometries) (0.3.1)\n",
      "Requirement already satisfied: meshio2 in c:\\users\\ricar\\appdata\\local\\programs\\python\\python310\\lib\\site-packages (from cardiac-geometries) (5.3.6)\n",
      "Requirement already satisfied: numpy in c:\\users\\ricar\\appdata\\local\\programs\\python\\python310\\lib\\site-packages (from cardiac-geometries) (2.1.3)\n",
      "Requirement already satisfied: rich-click in c:\\users\\ricar\\appdata\\local\\programs\\python\\python310\\lib\\site-packages (from cardiac-geometries) (1.8.9)\n",
      "Requirement already satisfied: gmsh in c:\\users\\ricar\\appdata\\local\\programs\\python\\python310\\lib\\site-packages (from cardiac-geometries-core>=0.2.1->cardiac-geometries) (4.14.0)\n",
      "Requirement already satisfied: rich in c:\\users\\ricar\\appdata\\local\\programs\\python\\python310\\lib\\site-packages (from meshio2->cardiac-geometries) (14.0.0)\n",
      "Requirement already satisfied: markdown-it-py>=2.2.0 in c:\\users\\ricar\\appdata\\local\\programs\\python\\python310\\lib\\site-packages (from rich->meshio2->cardiac-geometries) (3.0.0)\n",
      "Requirement already satisfied: pygments<3.0.0,>=2.13.0 in c:\\users\\ricar\\appdata\\local\\programs\\python\\python310\\lib\\site-packages (from rich->meshio2->cardiac-geometries) (2.19.2)\n",
      "Requirement already satisfied: typing-extensions<5.0,>=4.0.0 in c:\\users\\ricar\\appdata\\local\\programs\\python\\python310\\lib\\site-packages (from rich->meshio2->cardiac-geometries) (4.14.1)\n",
      "Requirement already satisfied: mdurl~=0.1 in c:\\users\\ricar\\appdata\\local\\programs\\python\\python310\\lib\\site-packages (from markdown-it-py>=2.2.0->rich->meshio2->cardiac-geometries) (0.1.2)\n",
      "Requirement already satisfied: click>=7 in c:\\users\\ricar\\appdata\\local\\programs\\python\\python310\\lib\\site-packages (from rich-click->cardiac-geometries) (8.2.1)\n",
      "Requirement already satisfied: colorama in c:\\users\\ricar\\appdata\\roaming\\python\\python310\\site-packages (from click>=7->rich-click->cardiac-geometries) (0.4.6)\n"
     ]
    }
   ],
   "source": [
    "%pip install cardiac-geometries meshio"
   ]
  },
  {
   "cell_type": "code",
   "execution_count": 1,
   "id": "34cd1e94",
   "metadata": {},
   "outputs": [
    {
     "name": "stdout",
     "output_type": "stream",
     "text": [
      "Import of Cupy failed. The GPU version of fimpy will be unavailable. Message: No module named 'cupy'\n"
     ]
    }
   ],
   "source": [
    "import numpy as np\n",
    "from pathlib import Path\n",
    "import meshio\n",
    "from purkinje_uv import FractalTree, Parameters, Mesh"
   ]
  },
  {
   "cell_type": "code",
   "execution_count": 2,
   "id": "0912ac55",
   "metadata": {},
   "outputs": [],
   "source": [
    "np.random.seed(1234)"
   ]
  },
  {
   "cell_type": "code",
   "execution_count": 3,
   "id": "9316a530",
   "metadata": {},
   "outputs": [],
   "source": [
    "def create_mesh(mesh, cell_type):\n",
    "    cells = mesh.get_cells_type(cell_type)\n",
    "    cell_data = mesh.get_cell_data(\"gmsh:geometrical\", cell_type)\n",
    "    out_mesh = meshio.Mesh(\n",
    "        points=mesh.points,\n",
    "        cells={cell_type: cells},\n",
    "        cell_data={\"name_to_read\": [cell_data]},\n",
    "    )\n",
    "\n",
    "    return out_mesh"
   ]
  },
  {
   "cell_type": "code",
   "execution_count": null,
   "id": "76f265ee",
   "metadata": {},
   "outputs": [],
   "source": [
    "path = Path(\"biv_ellipsoid.msh\")\n",
    "if not path.is_file():\n",
    "    # Generate mesh with cardiac geometries\n",
    "    import cardiac_geometries\n",
    "\n",
    "    cardiac_geometries.gmsh.biv_ellipsoid(path, char_length=0.1)"
   ]
  }
 ],
 "metadata": {
  "kernelspec": {
   "display_name": "Python 3",
   "language": "python",
   "name": "python3"
  },
  "language_info": {
   "codemirror_mode": {
    "name": "ipython",
    "version": 3
   },
   "file_extension": ".py",
   "mimetype": "text/x-python",
   "name": "python",
   "nbconvert_exporter": "python",
   "pygments_lexer": "ipython3",
   "version": "3.10.6"
  }
 },
 "nbformat": 4,
 "nbformat_minor": 5
}
