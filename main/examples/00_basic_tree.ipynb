{
 "cells": [
  {
   "cell_type": "markdown",
   "id": "bd72d381",
   "metadata": {
    "colab_type": "text",
    "id": "view-in-github"
   },
   "source": [
    "<a href=\"https://colab.research.google.com/github/ricardogr07/purkinje-uv/blob/feat%2Fcreate-examples-tutorials/examples/00_basic_tree.ipynb\" target=\"_parent\"><img src=\"https://colab.research.google.com/assets/colab-badge.svg\" alt=\"Open In Colab\"/></a>"
   ]
  },
  {
   "cell_type": "markdown",
   "id": "3dec0c1b",
   "metadata": {
    "id": "3dec0c1b"
   },
   "source": [
    "# 00 — Basic Tree \n",
    "\n",
    "## Programmatic Mesh → Grow → Activate → Export\n",
    "\n",
    "Minimal, self-contained demo that:\n",
    "\n",
    "1) Generates a small surface mesh programmatically\n",
    "\n",
    "2) Grows a fractal tree on it\n",
    "\n",
    "3) Wraps it into a `PurkinjeTree` and runs FIM activation\n",
    "\n",
    "4) Exports VTK files for visualization.\n",
    "\n",
    "**Why start here?** No external data is required. This notebook is the fastest path to confirm the pipeline works end-to-end on your machine.\n",
    "\n",
    "**Outputs**\n",
    "- `output/examples/00_basic_tree/basic_tree_AT.vtu` — unstructured grid with activation time field.\n",
    "- `output/examples/00_basic_tree/basic_tree_meshio.vtu` — line mesh via `meshio` (compatible with ParaView).\n",
    "- `output/examples/00_basic_tree/basic_tree_pmj.vtp` — PMJs as a point set.\n",
    "\n",
    "You can keep runtimes small with `EXAMPLES_LITE=1` (default in this notebook).\n"
   ]
  },
  {
   "cell_type": "code",
   "execution_count": null,
   "id": "69b2da8b",
   "metadata": {
    "id": "69b2da8b"
   },
   "outputs": [],
   "source": [
    "%pip install -q --upgrade pip\n",
    "%pip install -q purkinje-uv\n",
    "%pip install \"pyvista[jupyter]\""
   ]
  },
  {
   "cell_type": "markdown",
   "id": "4b9c943a",
   "metadata": {
    "id": "4b9c943a"
   },
   "source": [
    "## Settings, Reproducibility, and Output Paths\n",
    "\n",
    "We use:\n",
    "- `SEED` for determinism where applicable.\n",
    "- `LITE` toggle to keep the example small and fast by default.\n",
    "- A dedicated `OUT_DIR` under `output/examples/00_basic_tree/` to avoid clutter.\n",
    "\n",
    "You may override these with environment variables:\n",
    "- `EXAMPLES_SEED=2025`\n",
    "- `EXAMPLES_LITE=0`\n",
    "- `EXAMPLES_SHOW=1` (optional 3D viewer at the end)\n"
   ]
  },
  {
   "cell_type": "code",
   "execution_count": null,
   "id": "9b27ac01",
   "metadata": {
    "id": "9b27ac01"
   },
   "outputs": [],
   "source": [
    "from pathlib import Path\n",
    "import os\n",
    "import numpy as np\n",
    "import pyvista as pv\n",
    "from IPython.display import HTML, display\n",
    "\n",
    "from purkinje_uv import FractalTreeParameters, FractalTree, PurkinjeTree"
   ]
  },
  {
   "cell_type": "code",
   "execution_count": null,
   "id": "9ab1e237",
   "metadata": {
    "id": "9ab1e237"
   },
   "outputs": [],
   "source": [
    "SEED = int(os.getenv(\"EXAMPLES_SEED\", \"1234\"))\n",
    "LITE = bool(int(os.getenv(\"EXAMPLES_LITE\", \"1\")))\n",
    "SHOW = bool(int(os.getenv(\"EXAMPLES_SHOW\", \"1\")))  # optional PyVista preview\n",
    "\n",
    "OUT_DIR = Path(\"output\") / \"examples\" / \"00_basic_tree\"\n",
    "OUT_DIR.mkdir(parents=True, exist_ok=True)\n",
    "\n",
    "DATA_DIR = Path(\"data\")\n",
    "DATA_DIR.mkdir(parents=True, exist_ok=True)\n",
    "\n",
    "np.random.seed(SEED)\n",
    "print(f\"SEED={SEED}  LITE={LITE}  SHOW={SHOW}\")\n",
    "print(\"OUT_DIR:\", OUT_DIR)"
   ]
  },
  {
   "cell_type": "markdown",
   "id": "2f1ce289",
   "metadata": {
    "id": "2f1ce289"
   },
   "source": [
    "## Create a Programmatic Mesh (Sphere)\n",
    "\n",
    "We generate a simple triangulated sphere with PyVista and save it as an OBJ under `data/`.\n",
    "This avoids any external files and ensures the example is portable."
   ]
  },
  {
   "cell_type": "code",
   "execution_count": null,
   "id": "a72a699a",
   "metadata": {
    "id": "a72a699a"
   },
   "outputs": [],
   "source": [
    "# Generate an OPEN ellipsoid-like surface and save as OBJ\n",
    "mesh_path = Path(\"data/basic_open_ellipsoid.obj\")\n",
    "mesh_path.parent.mkdir(parents=True, exist_ok=True)\n",
    "\n",
    "# 1) Start with a triangulated sphere\n",
    "sphere = pv.Sphere(radius=1.0, theta_resolution=160, phi_resolution=160).triangulate()\n",
    "\n",
    "# 2) Scale non-uniformly → ellipsoid-like surface\n",
    "ellip = sphere.copy(deep=True)\n",
    "ellip.scale([1.30, 1.00, 0.75])\n",
    "\n",
    "# 3) Clip with a plane to create an OPEN boundary (no capping)\n",
    "open_surf = ellip.clip(normal=(0, 0, 1), origin=(0, 0, 0.35), invert=False)\n",
    "open_surf = open_surf.clean().triangulate()\n",
    "\n",
    "# 4) Verify it's actually open: boundary edges must be > 0\n",
    "edges = open_surf.extract_feature_edges(\n",
    "    boundary_edges=True, feature_edges=False, manifold_edges=False, non_manifold_edges=True\n",
    ")\n",
    "n_boundary = edges.n_cells\n",
    "print(\"Boundary edges (first try):\", n_boundary)\n",
    "\n",
    "# If somehow still closed, flip the keep-side and try again\n",
    "if n_boundary == 0:\n",
    "    open_surf = ellip.clip(normal=(0, 0, 1), origin=(0, 0, 0.35), invert=True).clean().triangulate()\n",
    "    edges = open_surf.extract_feature_edges(\n",
    "        boundary_edges=True, feature_edges=False, manifold_edges=False, non_manifold_edges=True\n",
    "    )\n",
    "    n_boundary = edges.n_cells\n",
    "    print(\"Boundary edges (after invert):\", n_boundary)\n",
    "    assert n_boundary > 0, \"Surface still closed; adjust clip origin (e.g., 0.3–0.6) or invert.\"\n",
    "\n",
    "# 5) Save OBJ (PyVista will use meshio under the hood if needed)\n",
    "open_surf.save(mesh_path)\n",
    "print(f\"Saved OPEN surface: {mesh_path} | points={open_surf.n_points} faces={open_surf.n_cells}\")\n"
   ]
  },
  {
   "cell_type": "markdown",
   "id": "f3aa772f",
   "metadata": {
    "id": "f3aa772f"
   },
   "source": [
    "## Fractal Tree Parameters (Small & CI-friendly)\n",
    "\n",
    "We start with conservative values that run quickly:\n",
    "- `l_segment=0.01`\n",
    "- `init_length=0.25`, `length=0.12` (initial and subsequent segment lengths)\n",
    "- `branch_angle=0.15 rad`, `w=0.1` (branching control)\n",
    "- `init_node_id=0`, `second_node_id=1` (work well on the generated sphere)\n",
    "\n",
    "If you disable LITE mode, you can increase size/complexity later."
   ]
  },
  {
   "cell_type": "code",
   "execution_count": null,
   "id": "ab8829ab",
   "metadata": {
    "id": "ab8829ab"
   },
   "outputs": [],
   "source": [
    "lseg = 0.01\n",
    "params = FractalTreeParameters(\n",
    "    meshfile=str(mesh_path),\n",
    "    l_segment=lseg,\n",
    "    init_length=0.30,\n",
    "    length=0.16,\n",
    "    branch_angle=0.22,     # wider fan-out\n",
    "    w=0.08,                # small curvature tweak\n",
    "    N_it=10,                # deeper branching\n",
    "    fascicles_angles=[-0.6, -0.2, 0.2, 0.6],      # radians\n",
    "    fascicles_length=[25*lseg, 35*lseg, 35*lseg, 25*lseg],\n",
    ")\n",
    "\n",
    "params.to_json_file(OUT_DIR / \"params.json\")\n",
    "print(\"Saved params to\", OUT_DIR / \"params.json\")\n",
    "print(params.to_json())"
   ]
  },
  {
   "cell_type": "markdown",
   "id": "ece46c76",
   "metadata": {
    "id": "ece46c76"
   },
   "source": [
    "## Grow the Fractal Tree\n",
    "\n",
    "We instantiate `FractalTree` with our parameters and call `grow_tree()`.\n",
    "The class loads the OBJ, performs the internal UV mapping/scaling, and generates:\n",
    "- `nodes_xyz` (list of 3D points),\n",
    "- `connectivity` (list of edges),\n",
    "- `end_nodes` (PMJ indices)."
   ]
  },
  {
   "cell_type": "code",
   "execution_count": null,
   "id": "d69fb3a2",
   "metadata": {
    "id": "d69fb3a2"
   },
   "outputs": [],
   "source": [
    "ft = FractalTree(params=params)\n",
    "ft.grow_tree()\n",
    "\n",
    "n_nodes = len(ft.nodes_xyz)\n",
    "n_edges = len(ft.connectivity)\n",
    "n_pmj   = len(ft.end_nodes)\n",
    "\n",
    "print(f\"Tree grown.\")\n",
    "print(f\"Nodes={n_nodes}  Edges={n_edges}  PMJs={n_pmj}\")"
   ]
  },
  {
   "cell_type": "markdown",
   "id": "6a6e29e9",
   "metadata": {
    "id": "6a6e29e9"
   },
   "source": [
    "## Wrap into `PurkinjeTree` and Run FIM Activation\n",
    "\n",
    "We now build a `PurkinjeTree` and run the Fast Iterative Method (FIM).\n",
    "- We stimulate node **0** at time **0.0**.\n",
    "- `return_only_pmj=False` returns activation times for all nodes.\n",
    "\n",
    "You can inspect PMJ activation times via `act[P.pmj]`."
   ]
  },
  {
   "cell_type": "code",
   "execution_count": null,
   "id": "9fe92a40",
   "metadata": {
    "id": "9fe92a40"
   },
   "outputs": [],
   "source": [
    "P = PurkinjeTree(\n",
    "    nodes=np.asarray(ft.nodes_xyz, dtype=float),\n",
    "    connectivity=np.asarray(ft.connectivity, dtype=int),\n",
    "    end_nodes=np.asarray(ft.end_nodes, dtype=int),\n",
    ")\n",
    "\n",
    "act = P.activate_fim(\n",
    "    x0=np.array([0], dtype=int),\n",
    "    x0_vals=np.array([0.0], dtype=float),\n",
    "    return_only_pmj=False,\n",
    ")\n",
    "\n",
    "act_min = float(np.min(act)) if act.size else float(\"nan\")\n",
    "act_max = float(np.max(act)) if act.size else float(\"nan\")\n",
    "\n",
    "print(\"Activation array:\", act.shape, \" min/max:\", act_min, act_max)\n",
    "if hasattr(P, \"pmj\"):\n",
    "    pmj_count = len(getattr(P, \"pmj\"))\n",
    "    print(\"PMJ count:\", pmj_count)\n"
   ]
  },
  {
   "cell_type": "markdown",
   "id": "6da1a831",
   "metadata": {
    "id": "6da1a831"
   },
   "source": [
    "## Export for Visualization\n",
    "\n",
    "We save three files into `OUT_DIR`:\n",
    "- `*_AT.vtu` — Unstructured grid with activation times (native writer).\n",
    "- `*_meshio.vtu` — Line mesh via `meshio`.\n",
    "- `*_pmj.vtp` — PMJs as points.\n",
    "\n",
    "Open them in ParaView to verify visually."
   ]
  },
  {
   "cell_type": "code",
   "execution_count": null,
   "id": "81ceeadd",
   "metadata": {
    "id": "81ceeadd"
   },
   "outputs": [],
   "source": [
    "at_path    = OUT_DIR / \"basic_tree_AT.vtu\"\n",
    "meshio_path= OUT_DIR / \"basic_tree_meshio.vtu\"\n",
    "pmj_path   = OUT_DIR / \"basic_tree_pmj.vtu\"\n",
    "\n",
    "P.save(str(at_path))\n",
    "P.save_meshio(str(meshio_path))\n",
    "P.save_pmjs(str(pmj_path))\n",
    "\n",
    "print(\"Wrote:\")\n",
    "print(\" -\", at_path)\n",
    "print(\" -\", meshio_path)\n",
    "print(\" -\", pmj_path)"
   ]
  },
  {
   "cell_type": "markdown",
   "id": "d157e752",
   "metadata": {
    "id": "d157e752"
   },
   "source": [
    "## Optional: Quick 3D Preview (PyVista)\n",
    "\n",
    "If you set `EXAMPLES_SHOW=1`, the cell below displays:\n",
    "- Tree lines,\n",
    "- PMJ points.\n",
    "\n",
    "This is optional and may require a local 3D backend."
   ]
  },
  {
   "cell_type": "code",
   "execution_count": null,
   "id": "6pN6B-J9eYB_",
   "metadata": {
    "id": "6pN6B-J9eYB_"
   },
   "outputs": [],
   "source": [
    "# --- Colab-safe PyVista visualization: OBJ surface + tree + PMJs ---\n",
    "\n",
    "# Resolve paths from notebook globals or sensible defaults\n",
    "out_dir   = Path(globals().get(\"OUT_DIR\", \"output/examples/00_basic_tree\"))\n",
    "at_path   = Path(globals().get(\"at_path\", out_dir / \"basic_tree_AT.vtu\"))\n",
    "pmj_path  = Path(globals().get(\"pmj_path\", out_dir / \"basic_tree_pmj.vtu\"))\n",
    "\n",
    "# Try to reuse the exact mesh you used to grow the tree\n",
    "mesh_path = globals().get(\"mesh_path\", None)\n",
    "if mesh_path is None:\n",
    "    # Fallback chain (adjust to your generation cell name)\n",
    "    for candidate in [\n",
    "        \"data/basic_open_ellipsoid.obj\",\n",
    "        \"data/basic_open_surface.obj\",\n",
    "        \"data/basic_sphere.obj\",\n",
    "    ]:\n",
    "        if Path(candidate).exists():\n",
    "            mesh_path = candidate\n",
    "            break\n",
    "if mesh_path is None:\n",
    "    raise SystemExit(\"Could not locate the OBJ used for growth. Set `mesh_path` before running.\")\n",
    "\n",
    "mesh_path = Path(mesh_path)\n",
    "\n",
    "print(\"Reading tree VTU:\", at_path)\n",
    "tree_ds = pv.read(str(at_path))\n",
    "\n",
    "pmj_ds = None\n",
    "if pmj_path.exists():\n",
    "    try:\n",
    "        pmj_ds = pv.read(str(pmj_path))\n",
    "        print(\"Reading PMJs:\", pmj_path)\n",
    "    except Exception as e:\n",
    "        print(\"PMJ read failed; overlay will be skipped:\", e)\n",
    "\n",
    "print(\"Reading surface OBJ:\", mesh_path)\n",
    "surface = pv.read(str(mesh_path))  # expect PolyData\n",
    "if not isinstance(surface, pv.PolyData):\n",
    "    surface = surface.extract_geometry()\n",
    "surface = surface.clean()\n",
    "try:\n",
    "    surface = surface.compute_normals(auto_orient_normals=True, splitting=False)\n",
    "except Exception:\n",
    "    pass\n",
    "\n",
    "# Optional thinning of heavy surfaces (0.0 keeps full detail)\n",
    "DECIMATE = float(os.getenv(\"EXAMPLES_DECIMATE\", \"0.0\"))\n",
    "if DECIMATE > 0.0 and surface.n_cells > 0:\n",
    "    try:\n",
    "        surface = surface.decimate_proportion(DECIMATE)\n",
    "        print(f\"Decimated surface to ~{int((1-DECIMATE)*100)}% faces.\")\n",
    "    except Exception:\n",
    "        pass\n",
    "\n",
    "def pick_scalar(ds: pv.DataSet):\n",
    "    preferred = [\"Activation\", \"AT\", \"activation\", \"activation_time\", \"time_activation\"]\n",
    "    names = set(list(ds.point_data.keys()) + list(ds.cell_data.keys()))\n",
    "    for nm in preferred:\n",
    "        if nm in names:\n",
    "            return nm\n",
    "    if len(ds.point_data.keys()) > 0:\n",
    "        return list(ds.point_data.keys())[0]\n",
    "    if len(ds.cell_data.keys()) > 0:\n",
    "        return list(ds.cell_data.keys())[0]\n",
    "    return None\n",
    "\n",
    "def ensure_polydata(ds: pv.DataSet) -> pv.PolyData:\n",
    "    try:\n",
    "        pd = ds.extract_geometry()\n",
    "        if isinstance(pd, pv.PolyData) and (pd.n_cells > 0 or pd.n_points > 0):\n",
    "            return pd\n",
    "    except Exception:\n",
    "        pass\n",
    "    try:\n",
    "        edges = ds.extract_all_edges()\n",
    "        if isinstance(edges, pv.PolyData) and edges.n_cells > 0:\n",
    "            return edges\n",
    "    except Exception:\n",
    "        pass\n",
    "    return pv.PolyData(ds.points) if hasattr(ds, \"points\") else pv.PolyData()\n",
    "\n",
    "def to_tubes(pd: pv.PolyData, radius=0.003):\n",
    "    try:\n",
    "        if pd.n_cells > 0:\n",
    "            return pd.tube(radius=radius)\n",
    "    except Exception:\n",
    "        pass\n",
    "    return pd\n",
    "\n",
    "# Build tree geometry as tubes for better visibility\n",
    "tree_geom = ensure_polydata(tree_ds)\n",
    "tree_tubes = to_tubes(tree_geom, radius=0.003)\n",
    "tree_scalar = pick_scalar(tree_ds)\n",
    "\n",
    "# Extract PMJ points if present\n",
    "pmj_geom = None\n",
    "if pmj_ds is not None:\n",
    "    pmj_geom = ensure_polydata(pmj_ds) if getattr(pmj_ds, \"n_points\", 0) > 0 else None\n",
    "\n",
    "# Also show the boundary edge loop of the OBJ (helps confirm it's OPEN)\n",
    "try:\n",
    "    boundary_edges = surface.extract_feature_edges(\n",
    "        boundary_edges=True, feature_edges=False, manifold_edges=False, non_manifold_edges=True\n",
    "    )\n",
    "    has_boundary = boundary_edges.n_cells > 0\n",
    "except Exception:\n",
    "    has_boundary = False\n",
    "    boundary_edges = None\n",
    "\n",
    "# Try inline HTML backend first\n",
    "try:\n",
    "    pv.global_theme.jupyter_backend = \"html\"\n",
    "    print(\"Using PyVista backend:\", pv.global_theme.jupyter_backend)\n",
    "\n",
    "    p = pv.Plotter(notebook=True)\n",
    "    # Surface first (slight opacity so tubes are visible)\n",
    "    p.add_mesh(surface, opacity=0.2, smooth_shading=True)\n",
    "    if has_boundary:\n",
    "        p.add_mesh(boundary_edges, line_width=2)\n",
    "\n",
    "    # Tree tubes with scalar if present\n",
    "    p.add_mesh(\n",
    "        tree_tubes,\n",
    "        scalars=tree_scalar if tree_scalar else None,\n",
    "        show_scalar_bar=bool(tree_scalar),\n",
    "        scalar_bar_args={\"title\": tree_scalar or \"\"},\n",
    "    )\n",
    "\n",
    "    # PMJs overlay as points\n",
    "    if pmj_geom is not None and pmj_geom.n_points > 0:\n",
    "        p.add_mesh(pmj_geom, style=\"points\", point_size=12)\n",
    "\n",
    "    p.show(title=\"OBJ Surface + Purkinje Tree + PMJs\")\n",
    "except Exception as e_html_backend:\n",
    "    print(\"Inline HTML backend render failed:\", e_html_backend)\n",
    "\n",
    "    # Fallback 1: standalone HTML export and embed\n",
    "    try:\n",
    "        html_path = out_dir / \"basic_tree_with_surface.html\"\n",
    "\n",
    "        try:\n",
    "            pv.start_xvfb()\n",
    "        except Exception:\n",
    "            pass\n",
    "\n",
    "        p = pv.Plotter(off_screen=True)\n",
    "        p.add_mesh(surface, opacity=0.2, smooth_shading=True)\n",
    "        if has_boundary:\n",
    "            p.add_mesh(boundary_edges, line_width=2)\n",
    "        p.add_mesh(\n",
    "            tree_tubes,\n",
    "            scalars=tree_scalar if tree_scalar else None,\n",
    "            show_scalar_bar=bool(tree_scalar),\n",
    "            scalar_bar_args={\"title\": tree_scalar or \"\"},\n",
    "        )\n",
    "        if pmj_geom is not None and pmj_geom.n_points > 0:\n",
    "            p.add_mesh(pmj_geom, style=\"points\", point_size=12)\n",
    "\n",
    "        p.export_html(str(html_path))\n",
    "        display(HTML(html_path.read_text(encoding=\"utf-8\")))\n",
    "        print(\"Embedded exported HTML:\", html_path)\n",
    "    except Exception as e_export:\n",
    "        print(\"HTML export/embed failed:\", e_export)\n",
    "\n",
    "        # Fallback 2: screenshot\n",
    "        try:\n",
    "            img_path = out_dir / \"basic_tree_with_surface.png\"\n",
    "            p = pv.Plotter(off_screen=True)\n",
    "            p.add_mesh(surface, opacity=0.2, smooth_shading=True)\n",
    "            if has_boundary:\n",
    "                p.add_mesh(boundary_edges, line_width=2)\n",
    "            p.add_mesh(\n",
    "                tree_tubes,\n",
    "                scalars=tree_scalar if tree_scalar else None,\n",
    "                show_scalar_bar=bool(tree_scalar),\n",
    "                scalar_bar_args={\"title\": tree_scalar or \"\"},\n",
    "            )\n",
    "            if pmj_geom is not None and pmj_geom.n_points > 0:\n",
    "                p.add_mesh(pmj_geom, style=\"points\", point_size=12)\n",
    "            p.show(screenshot=str(img_path))\n",
    "            from IPython.display import Image\n",
    "            display(Image(filename=str(img_path)))\n",
    "            print(\"Screenshot fallback saved:\", img_path)\n",
    "        except Exception as e_ss:\n",
    "            print(\"Screenshot fallback failed:\", e_ss)"
   ]
  },
  {
   "cell_type": "markdown",
   "id": "b2fb8a97",
   "metadata": {
    "id": "b2fb8a97"
   },
   "source": [
    "## Verification Checklist\n",
    "\n",
    "- This notebook produced three files in `output/examples/00_basic_tree/`.\n",
    "- Activation array has the same length as the number of tree nodes.\n",
    "- PMJ file exists and contains points.\n",
    "\n",
    "**Reproducibility tips**\n",
    "- Keep `SEED` fixed to stabilize stochastic parts.\n",
    "- Use `EXAMPLES_LITE=1` for CI or quick runs; set `EXAMPLES_LITE=0` to explore larger trees."
   ]
  },
  {
   "cell_type": "markdown",
   "id": "720352d5",
   "metadata": {
    "id": "720352d5"
   },
   "source": [
    "## Troubleshooting\n",
    "\n",
    "- **`vtk` wheel installation errors (Windows/Linux):** ensure you’re using a supported Python version and recent pip (`python -m pip install --upgrade pip`).\n",
    "- **OBJ writer not available:** the notebook falls back to `meshio` to write OBJ or VTU. Ensure `meshio` is installed (the first cell does this).\n",
    "- **Blank preview window:** set `EXAMPLES_SHOW=1` to enable the viewer and ensure your environment supports interactive windows (e.g., not running headless).\n"
   ]
  }
 ],
 "metadata": {
  "accelerator": "GPU",
  "colab": {
   "gpuType": "T4",
   "include_colab_link": true,
   "provenance": []
  },
  "kernelspec": {
   "display_name": "Python 3",
   "name": "python3"
  },
  "language_info": {
   "name": "python",
   "version": "3.10.6"
  }
 },
 "nbformat": 4,
 "nbformat_minor": 5
}
