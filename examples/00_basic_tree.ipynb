{
 "cells": [
  {
   "cell_type": "markdown",
   "id": "3dec0c1b",
   "metadata": {},
   "source": [
    "# 00 · Basic Tree (Programmatic Mesh → Grow → Activate → Export)\n",
    "\n",
    "**Goal.** Minimal, self-contained demo that:\n",
    "1) Generates a small surface mesh programmatically (sphere),\n",
    "2) Grows a fractal tree on it,\n",
    "3) Wraps it into a `PurkinjeTree` and runs FIM activation,\n",
    "4) Exports VTK files for visualization.\n",
    "\n",
    "**Why start here?** No external data is required. This notebook is the fastest path to confirm the pipeline works end-to-end on your machine.\n",
    "\n",
    "**Outputs**\n",
    "- `output/examples/00_basic_tree/basic_tree_AT.vtu` — unstructured grid with activation time field.\n",
    "- `output/examples/00_basic_tree/basic_tree_meshio.vtu` — line mesh via `meshio` (compatible with ParaView).\n",
    "- `output/examples/00_basic_tree/basic_tree_pmj.vtp` — PMJs as a point set.\n",
    "\n",
    "You can keep runtimes small with `EXAMPLES_LITE=1` (default in this notebook).\n"
   ]
  },
  {
   "cell_type": "code",
   "execution_count": null,
   "id": "69b2da8b",
   "metadata": {},
   "outputs": [],
   "source": [
    "%pip install -q --upgrade pip\n",
    "%pip install -q purkinje-uv"
   ]
  },
  {
   "cell_type": "markdown",
   "id": "4b9c943a",
   "metadata": {},
   "source": [
    "## Settings, Reproducibility, and Output Paths\n",
    "\n",
    "We use:\n",
    "- `SEED` for determinism where applicable.\n",
    "- `LITE` toggle to keep the example small and fast by default.\n",
    "- A dedicated `OUT_DIR` under `output/examples/00_basic_tree/` to avoid clutter.\n",
    "\n",
    "You may override these with environment variables:\n",
    "- `EXAMPLES_SEED=2025`\n",
    "- `EXAMPLES_LITE=0`\n",
    "- `EXAMPLES_SHOW=1` (optional 3D viewer at the end)\n"
   ]
  },
  {
   "cell_type": "code",
   "execution_count": null,
   "id": "9b27ac01",
   "metadata": {},
   "outputs": [],
   "source": [
    "from pathlib import Path\n",
    "import os\n",
    "import numpy as np\n",
    "import pyvista as pv\n",
    "from purkinje_uv import FractalTreeParameters, FractalTree, PurkinjeTree"
   ]
  },
  {
   "cell_type": "code",
   "execution_count": null,
   "id": "9ab1e237",
   "metadata": {},
   "outputs": [],
   "source": [
    "SEED = int(os.getenv(\"EXAMPLES_SEED\", \"1234\"))\n",
    "LITE = bool(int(os.getenv(\"EXAMPLES_LITE\", \"1\")))\n",
    "SHOW = bool(int(os.getenv(\"EXAMPLES_SHOW\", \"0\")))  # optional PyVista preview\n",
    "\n",
    "OUT_DIR = Path(\"output\") / \"examples\" / \"00_basic_tree\"\n",
    "OUT_DIR.mkdir(parents=True, exist_ok=True)\n",
    "\n",
    "DATA_DIR = Path(\"data\")\n",
    "DATA_DIR.mkdir(parents=True, exist_ok=True)\n",
    "\n",
    "np.random.seed(SEED)\n",
    "print(f\"SEED={SEED}  LITE={LITE}  SHOW={SHOW}\")\n",
    "print(\"OUT_DIR:\", OUT_DIR)\n"
   ]
  },
  {
   "cell_type": "markdown",
   "id": "2f1ce289",
   "metadata": {},
   "source": [
    "## Create a Programmatic Mesh (Sphere)\n",
    "\n",
    "We generate a simple triangulated sphere with PyVista and save it as an OBJ under `data/`.\n",
    "This avoids any external files and ensures the example is portable."
   ]
  },
  {
   "cell_type": "code",
   "execution_count": null,
   "id": "a72a699a",
   "metadata": {},
   "outputs": [],
   "source": [
    "mesh_path = DATA_DIR / \"basic_sphere.obj\"\n",
    "sphere = pv.Sphere(radius=1.0, theta_resolution=96, phi_resolution=96).triangulate()\n",
    "\n",
    "# Save via PyVista; if your environment lacks the OBJ writer for some reason,\n",
    "# we fall back to meshio.\n",
    "try:\n",
    "    sphere.save(mesh_path)\n",
    "    saved_via = \"pyvista\"\n",
    "except Exception as e:\n",
    "    print(\"PyVista save failed, falling back to meshio:\", repr(e))\n",
    "    import meshio\n",
    "    # meshio expects faces as a list of arrays; convert polydata to triangles\n",
    "    faces = sphere.faces.reshape(-1, 4)[:, 1:]  # (n_cells, 3)\n",
    "    meshio.write(\n",
    "        mesh_path,\n",
    "        meshio.Mesh(points=sphere.points, cells=[(\"triangle\", faces)]),\n",
    "    )\n",
    "    saved_via = \"meshio\"\n",
    "\n",
    "print(f\"Saved mesh: {mesh_path}  | points={sphere.n_points}  faces={sphere.n_cells}  via={saved_via}\")"
   ]
  },
  {
   "cell_type": "markdown",
   "id": "f3aa772f",
   "metadata": {},
   "source": [
    "## Fractal Tree Parameters (Small & CI-friendly)\n",
    "\n",
    "We start with conservative values that run quickly:\n",
    "- `l_segment=0.01`\n",
    "- `init_length=0.25`, `length=0.12` (initial and subsequent segment lengths)\n",
    "- `branch_angle=0.15 rad`, `w=0.1` (branching control)\n",
    "- `init_node_id=0`, `second_node_id=1` (work well on the generated sphere)\n",
    "\n",
    "If you disable LITE mode, you can increase size/complexity later."
   ]
  },
  {
   "cell_type": "code",
   "execution_count": null,
   "id": "ab8829ab",
   "metadata": {},
   "outputs": [],
   "source": [
    "def make_params(path: Path) -> FractalTreeParameters:\n",
    "    p = FractalTreeParameters(\n",
    "        meshfile=str(path),\n",
    "        l_segment=0.01,\n",
    "        init_length=0.25,\n",
    "        length=0.12,\n",
    "        branch_angle=0.15,\n",
    "        w=0.1,\n",
    "        init_node_id=0,\n",
    "        second_node_id=1,\n",
    "        N_it=5,\n",
    "    )\n",
    "    return p\n",
    "\n",
    "params = make_params(mesh_path)\n",
    "params"
   ]
  },
  {
   "cell_type": "markdown",
   "id": "ece46c76",
   "metadata": {},
   "source": [
    "## Grow the Fractal Tree\n",
    "\n",
    "We instantiate `FractalTree` with our parameters and call `grow_tree()`.\n",
    "The class loads the OBJ, performs the internal UV mapping/scaling, and generates:\n",
    "- `nodes_xyz` (list of 3D points),\n",
    "- `connectivity` (list of edges),\n",
    "- `end_nodes` (PMJ indices)."
   ]
  },
  {
   "cell_type": "code",
   "execution_count": null,
   "id": "d69fb3a2",
   "metadata": {},
   "outputs": [],
   "source": [
    "ft = FractalTree(params=params)\n",
    "ft.grow_tree()\n",
    "\n",
    "n_nodes = len(ft.nodes_xyz)\n",
    "n_edges = len(ft.connectivity)\n",
    "n_pmj   = len(ft.end_nodes)\n",
    "\n",
    "print(f\"Tree grown.\")\n",
    "print(f\"Nodes={n_nodes}  Edges={n_edges}  PMJs={n_pmj}\")"
   ]
  },
  {
   "cell_type": "markdown",
   "id": "6a6e29e9",
   "metadata": {},
   "source": [
    "## Wrap into `PurkinjeTree` and Run FIM Activation\n",
    "\n",
    "We now build a `PurkinjeTree` and run the Fast Iterative Method (FIM).\n",
    "- We stimulate node **0** at time **0.0**.\n",
    "- `return_only_pmj=False` returns activation times for all nodes.\n",
    "\n",
    "You can inspect PMJ activation times via `act[P.pmj]`."
   ]
  },
  {
   "cell_type": "code",
   "execution_count": null,
   "id": "9fe92a40",
   "metadata": {},
   "outputs": [],
   "source": [
    "P = PurkinjeTree(\n",
    "    nodes=np.asarray(ft.nodes_xyz, dtype=float),\n",
    "    connectivity=np.asarray(ft.connectivity, dtype=int),\n",
    "    end_nodes=np.asarray(ft.end_nodes, dtype=int),\n",
    ")\n",
    "\n",
    "act = P.activate_fim(\n",
    "    x0=np.array([0], dtype=int),\n",
    "    x0_vals=np.array([0.0], dtype=float),\n",
    "    return_only_pmj=False,\n",
    ")\n",
    "\n",
    "act_min = float(np.min(act)) if act.size else float(\"nan\")\n",
    "act_max = float(np.max(act)) if act.size else float(\"nan\")\n",
    "\n",
    "print(\"Activation array:\", act.shape, \" min/max:\", act_min, act_max)\n",
    "if hasattr(P, \"pmj\"):\n",
    "    pmj_count = len(getattr(P, \"pmj\"))\n",
    "    print(\"PMJ count:\", pmj_count)\n"
   ]
  },
  {
   "cell_type": "markdown",
   "id": "6da1a831",
   "metadata": {},
   "source": [
    "## Export for Visualization\n",
    "\n",
    "We save three files into `OUT_DIR`:\n",
    "- `*_AT.vtu` — Unstructured grid with activation times (native writer).\n",
    "- `*_meshio.vtu` — Line mesh via `meshio`.\n",
    "- `*_pmj.vtp` — PMJs as points.\n",
    "\n",
    "Open them in ParaView to verify visually."
   ]
  },
  {
   "cell_type": "code",
   "execution_count": null,
   "id": "81ceeadd",
   "metadata": {},
   "outputs": [],
   "source": [
    "at_path    = OUT_DIR / \"basic_tree_AT.vtu\"\n",
    "meshio_path= OUT_DIR / \"basic_tree_meshio.vtu\"\n",
    "pmj_path   = OUT_DIR / \"basic_tree_pmj.vtp\"\n",
    "\n",
    "P.save(str(at_path))\n",
    "P.save_meshio(str(meshio_path))\n",
    "P.save_pmjs(str(pmj_path))\n",
    "\n",
    "print(\"Wrote:\")\n",
    "print(\" -\", at_path)\n",
    "print(\" -\", meshio_path)\n",
    "print(\" -\", pmj_path)\n"
   ]
  },
  {
   "cell_type": "markdown",
   "id": "d157e752",
   "metadata": {},
   "source": [
    "## Optional: Quick 3D Preview (PyVista)\n",
    "\n",
    "If you set `EXAMPLES_SHOW=1`, the cell below displays:\n",
    "- Tree lines,\n",
    "- PMJ points.\n",
    "\n",
    "This is optional and may require a local 3D backend."
   ]
  },
  {
   "cell_type": "code",
   "execution_count": null,
   "id": "652cfb2a",
   "metadata": {},
   "outputs": [],
   "source": [
    "if SHOW:\n",
    "    import pyvista as pv\n",
    "    pts = np.asarray(ft.nodes_xyz)\n",
    "    edges = np.asarray(ft.connectivity)\n",
    "\n",
    "    # Build a PolyData with polyline cells\n",
    "    # VTK \"lines\" connectivity format: [n, i0, i1, n, j0, j1, ...]\n",
    "    lines = np.hstack([[2, e[0], e[1]] for e in edges]).astype(np.int32)\n",
    "\n",
    "    poly = pv.PolyData()\n",
    "    poly.points = pts\n",
    "    poly.lines = lines\n",
    "\n",
    "    pl = pv.Plotter()\n",
    "    pl.add_mesh(poly, line_width=2)\n",
    "    if len(ft.end_nodes) > 0:\n",
    "        pl.add_points(pts[np.asarray(ft.end_nodes, dtype=int)], point_size=8)\n",
    "    pl.show()\n",
    "else:\n",
    "    print(\"Preview disabled. Set EXAMPLES_SHOW=1 to enable.\")\n"
   ]
  },
  {
   "cell_type": "markdown",
   "id": "b2fb8a97",
   "metadata": {},
   "source": [
    "## Verification Checklist\n",
    "\n",
    "- This notebook produced three files in `output/examples/00_basic_tree/`.\n",
    "- Activation array has the same length as the number of tree nodes.\n",
    "- PMJ file exists and contains points.\n",
    "- Runs in under a couple of minutes with `EXAMPLES_LITE=1`.\n",
    "\n",
    "**Reproducibility tips**\n",
    "- Keep `SEED` fixed to stabilize stochastic parts.\n",
    "- Use `EXAMPLES_LITE=1` for CI or quick runs; set `EXAMPLES_LITE=0` to explore larger trees."
   ]
  },
  {
   "cell_type": "markdown",
   "id": "720352d5",
   "metadata": {},
   "source": [
    "## Troubleshooting\n",
    "\n",
    "- **`vtk` wheel installation errors (Windows/Linux):** ensure you’re using a supported Python version and recent pip (`python -m pip install --upgrade pip`).\n",
    "- **`ImportError: purkinje_uv …`:** the notebook auto-installs the local repo in editable mode if it finds `pyproject.toml`. If your code lives outside the working directory, install it manually (`pip install -e <path-to-repo>`).\n",
    "- **OBJ writer not available:** the notebook falls back to `meshio` to write OBJ or VTU. Ensure `meshio` is installed (the first cell does this).\n",
    "- **Blank preview window:** set `EXAMPLES_SHOW=1` to enable the viewer and ensure your environment supports interactive windows (e.g., not running headless).\n"
   ]
  }
 ],
 "metadata": {
  "kernelspec": {
   "display_name": "Python 3",
   "language": "python",
   "name": "python3"
  },
  "language_info": {
   "name": "python",
   "version": "3.10.6"
  }
 },
 "nbformat": 4,
 "nbformat_minor": 5
}
