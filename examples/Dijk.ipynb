{
 "cells": [
  {
   "cell_type": "code",
   "execution_count": null,
   "metadata": {},
   "outputs": [],
   "source": [
    "from examples.example_fractal_tree_3d import *\n",
    "from examples.example_parameters import Parameters\n",
    "import matplotlib.pyplot as plt\n",
    "import numpy as np"
   ]
  },
  {
   "cell_type": "code",
   "execution_count": 4,
   "metadata": {},
   "outputs": [
    {
     "name": "stdout",
     "output_type": "stream",
     "text": [
      "no nodes to consider\n",
      "no nodes to consider\n",
      "no nodes to consider\n"
     ]
    }
   ],
   "source": [
    "param=Parameters()\n",
    "param.save = False\n",
    "param.meshfile = \"../data/sphere.obj\"\n",
    "\n",
    "branches, nodes = Fractal_Tree_3D(param)"
   ]
  },
  {
   "cell_type": "code",
   "execution_count": 6,
   "metadata": {},
   "outputs": [],
   "source": [
    "# end nodes\n",
    "nn,cnt = np.unique(np.concatenate([ np.array(b.nodes)[[0,-1]] for b in branches.values() if len(b.nodes) > 1]),return_counts=True)\n",
    "enodes = nn[cnt==1]"
   ]
  },
  {
   "cell_type": "code",
   "execution_count": 7,
   "metadata": {},
   "outputs": [
    {
     "name": "stdout",
     "output_type": "stream",
     "text": [
      "0 inf\n",
      "1 0.0\n"
     ]
    }
   ],
   "source": [
    "# node to edge map\n",
    "pts = np.array(nodes.nodes)\n",
    "\n",
    "cv = 1.0 # [m/s]\n",
    "\n",
    "act = np.empty(pts.shape[0])\n",
    "act.fill(np.inf)\n",
    "act[enodes[0]]  = 0.0\n",
    "#act[enodes[-1]] = 0.0\n",
    "\n",
    "# we assume no activation in the middle of the branch\n",
    "for k in range(30):\n",
    "    act_old = act.copy()\n",
    "    # iterate over the branches\n",
    "    # NOTE this could be done in parallel\n",
    "    for branch in branches.values():\n",
    "        # points in the branch\n",
    "        bn = branch.nodes\n",
    "        bp = pts[bn,:]\n",
    "        # length of each segment\n",
    "        le = np.linalg.norm(np.diff(bp,axis=0),axis=1)\n",
    "        # activation from first node\n",
    "        dl = np.r_[0.0,np.cumsum(le)] / cv\n",
    "        # update all nodes in the branch from left and right\n",
    "        act[bn] = np.minimum( dl + act[bn[0]], dl[::-1] + act[bn[-1]] )\n",
    "\n",
    "    err = np.linalg.norm(act-act_old)\n",
    "    print(k,np.linalg.norm(act-act_old))\n",
    "    if err < 1e-8: break\n",
    "#plt.plot(act[bn])"
   ]
  },
  {
   "cell_type": "code",
   "execution_count": 8,
   "metadata": {},
   "outputs": [],
   "source": [
    "import meshio\n",
    "\n",
    "edges = np.array(sum((list(zip(b.nodes[0:-1],b.nodes[1:])) for b in branches.values() if len(b.nodes) > 1),[]))\n",
    "enod  = np.zeros_like(act,dtype=int)\n",
    "enod[enodes] = 1\n",
    "\n",
    "mesh = meshio.Mesh(points=pts,cells={'line':edges},point_data={'activation':act,'endnode':enod})\n",
    "\n",
    "#mesh = meshio.read(\"sphere-line.vtu\")\n",
    "#mesh.point_data['distance'] = dd*cv\n",
    "mesh.write(\"sphere-line-act.vtu\")"
   ]
  },
  {
   "cell_type": "code",
   "execution_count": 9,
   "metadata": {},
   "outputs": [],
   "source": [
    "from fimpy.solver import FIMPY"
   ]
  },
  {
   "cell_type": "code",
   "execution_count": 10,
   "metadata": {},
   "outputs": [
    {
     "name": "stderr",
     "output_type": "stream",
     "text": [
      "C:\\Users\\ricar\\AppData\\Local\\Temp\\ipykernel_20044\\824439801.py:7: DeprecationWarning: Using the FIMPY interface is deprecated and will be removed in future releases. Use the module function create_fim_solver directly.\n",
      "  fim = FIMPY.create_fim_solver(spts,selm,D)\n"
     ]
    }
   ],
   "source": [
    "sphere = meshio.read(\"../data/sphere.obj\")\n",
    "\n",
    "spts,selm = sphere.points,sphere.cells[0].data\n",
    "velocity_e = np.ones(selm.shape[0])\n",
    "D = 0.1*np.eye(3)[np.newaxis] * velocity_e[..., np.newaxis, np.newaxis]\n",
    "\n",
    "fim = FIMPY.create_fim_solver(spts,selm,D)\n",
    "phi = fim.comp_fim([0], [0.0])\n",
    "\n",
    "sphere.point_data['activation'] = phi\n",
    "sphere.write(\"sphere-act.vtu\")"
   ]
  },
  {
   "cell_type": "code",
   "execution_count": 11,
   "metadata": {},
   "outputs": [],
   "source": [
    "# entry points\n",
    "epts = pts[enodes[1:],:]\n",
    "eact = act[enodes[1:]]\n",
    "\n",
    "from scipy.spatial import cKDTree as kdtree\n",
    "t = kdtree(sphere.points)\n",
    "\n",
    "# closest points in the mesh\n",
    "d,i = t.query(epts)\n",
    "# some points may overlap, take minimum\n",
    "iu,idx,inv,c = np.unique(i,return_inverse=True,return_index=True,return_counts=True)\n",
    "eactr = eact[idx]\n",
    "for ii in range(eact.shape[0]):\n",
    "    eactr[inv[ii]] = min(eact[ii],eactr[inv[ii]])\n",
    "\n",
    "phi = fim.comp_fim(iu, eactr)\n",
    "sphere.point_data['activation'] = phi\n",
    "sphere.write(\"sphere-act.vtu\")\n",
    "\n",
    "# TBD: TK version with activation within element\n",
    "# check for element in mesh\n",
    "#from Mesh import Mesh\n",
    "#m = Mesh(\"data/sphere.obj\",useVTK=True)\n",
    "#epts[0,:], m.project_new_point( epts[0,:] )\n",
    "\n",
    "#print(epts,eact)"
   ]
  },
  {
   "cell_type": "code",
   "execution_count": 12,
   "metadata": {},
   "outputs": [],
   "source": [
    "import vtk\n",
    "from vtkmodules.numpy_interface import dataset_adapter as dsa\n",
    "\n",
    "reader = vtk.vtkXMLUnstructuredGridReader()\n",
    "reader.SetFileName(\"sphere-act.vtu\")\n",
    "reader.Update()\n",
    "\n",
    "reader2 = vtk.vtkXMLUnstructuredGridReader()\n",
    "reader2.SetFileName(\"sphere-line-act.vtu\")\n",
    "reader2.Update()\n",
    "\n",
    "probe = vtk.vtkProbeFilter()\n",
    "probe.SetSourceData(reader.GetOutput())\n",
    "probe.SetInputData(reader2.GetOutput())\n",
    "probe.Update()\n",
    "\n",
    "da = dsa.WrapDataObject(probe.GetOutput())\n",
    "vv = da.PointData['activation']"
   ]
  },
  {
   "cell_type": "code",
   "execution_count": 13,
   "metadata": {},
   "outputs": [],
   "source": [
    "loc = vtk.vtkCellLocator()\n",
    "loc.SetDataSet(reader.GetOutput())\n",
    "loc.BuildLocator()"
   ]
  },
  {
   "cell_type": "code",
   "execution_count": 14,
   "metadata": {},
   "outputs": [
    {
     "name": "stdout",
     "output_type": "stream",
     "text": [
      "[0.05520804904964141, 0.859703174299535, 0.0] [0.0850887766508236, 0.05520804904964141, 0.859703174299535, 0.0, 0.0]\n"
     ]
    }
   ],
   "source": [
    "cellId = vtk.reference(0)\n",
    "c = [0.0, 0.0, 0.0]\n",
    "subId = vtk.reference(0)\n",
    "d = vtk.reference(0.0)\n",
    "loc.FindClosestPoint(epts[0,:], c, cellId, subId, d)\n",
    "\n",
    "genCell = vtk.vtkGenericCell()\n",
    "pcoords = [0.0,0.0,0.0]\n",
    "weights = [0,0,0,0,0]\n",
    "loc.FindCell(epts[0,:],1e-4,genCell,pcoords,weights)\n",
    "\n",
    "#epts[0,:],c,cellId\n",
    "\n",
    "print(pcoords,weights)"
   ]
  },
  {
   "cell_type": "code",
   "execution_count": 15,
   "metadata": {},
   "outputs": [
    {
     "name": "stdout",
     "output_type": "stream",
     "text": [
      "vtkPolyData (000001F7CDF32CC0)\n",
      "  Debug: Off\n",
      "  Modified Time: 19455\n",
      "  Reference Count: 1\n",
      "  Registered Events: (none)\n",
      "  Information: 000001F7C9F0A0C0\n",
      "  Data Released: False\n",
      "  Global Release Data: Off\n",
      "  UpdateTime: 0\n",
      "  Field Data:\n",
      "    Debug: Off\n",
      "    Modified Time: 19422\n",
      "    Reference Count: 1\n",
      "    Registered Events: (none)\n",
      "    Number Of Arrays: 0\n",
      "    Number Of Components: 0\n",
      "    Number Of Tuples: 0\n",
      "  Number Of Points: 321\n",
      "  Number Of Cells: 0\n",
      "  Cell Data:\n",
      "    Debug: Off\n",
      "    Modified Time: 19448\n",
      "    Reference Count: 1\n",
      "    Registered Events: \n",
      "      Registered Observers:\n",
      "        vtkObserver (000001F7CA297950)\n",
      "          Event: 33\n",
      "          EventName: ModifiedEvent\n",
      "          Command: 000001F7CA183C70\n",
      "          Priority: 0\n",
      "          Tag: 1\n",
      "    Number Of Arrays: 0\n",
      "    Number Of Components: 0\n",
      "    Number Of Tuples: 0\n",
      "    Copy Tuple Flags: ( 1 1 1 1 1 0 1 1 1 1 1 1 )\n",
      "    Interpolate Flags: ( 1 1 1 1 1 0 0 1 1 1 1 0 )\n",
      "    Pass Through Flags: ( 1 1 1 1 1 1 1 1 1 1 1 1 )\n",
      "    Scalars: (none)\n",
      "    Vectors: (none)\n",
      "    Normals: (none)\n",
      "    TCoords: (none)\n",
      "    Tensors: (none)\n",
      "    GlobalIds: (none)\n",
      "    PedigreeIds: (none)\n",
      "    EdgeFlag: (none)\n",
      "    Tangents: (none)\n",
      "    RationalWeights: (none)\n",
      "    HigherOrderDegrees: (none)\n",
      "    ProcessIds: (none)\n",
      "  Point Data:\n",
      "    Debug: Off\n",
      "    Modified Time: 19447\n",
      "    Reference Count: 1\n",
      "    Registered Events: \n",
      "      Registered Observers:\n",
      "        vtkObserver (000001F7CA297B60)\n",
      "          Event: 33\n",
      "          EventName: ModifiedEvent\n",
      "          Command: 000001F7CA183C70\n",
      "          Priority: 0\n",
      "          Tag: 1\n",
      "    Number Of Arrays: 0\n",
      "    Number Of Components: 0\n",
      "    Number Of Tuples: 0\n",
      "    Copy Tuple Flags: ( 1 1 1 1 1 0 1 1 1 1 1 1 )\n",
      "    Interpolate Flags: ( 1 1 1 1 1 0 0 1 1 1 1 0 )\n",
      "    Pass Through Flags: ( 1 1 1 1 1 1 1 1 1 1 1 1 )\n",
      "    Scalars: (none)\n",
      "    Vectors: (none)\n",
      "    Normals: (none)\n",
      "    TCoords: (none)\n",
      "    Tensors: (none)\n",
      "    GlobalIds: (none)\n",
      "    PedigreeIds: (none)\n",
      "    EdgeFlag: (none)\n",
      "    Tangents: (none)\n",
      "    RationalWeights: (none)\n",
      "    HigherOrderDegrees: (none)\n",
      "    ProcessIds: (none)\n",
      "  Bounds: \n",
      "    Xmin,Xmax: (-0.998925, 0.0452537)\n",
      "    Ymin,Ymax: (-0.995254, 0.699627)\n",
      "    Zmin,Zmax: (-0.780278, 0.995911)\n",
      "  Compute Time: 20014\n",
      "  Editable: false\n",
      "  Number Of Points: 321\n",
      "  Point Coordinates: 000001F7AB7AE8B0\n",
      "  PointLocator: 0000000000000000\n",
      "  CellLocator: 0000000000000000\n",
      "  Number Of Vertices: 0\n",
      "  Number Of Lines: 0\n",
      "  Number Of Polygons: 0\n",
      "  Number Of Triangle Strips: 0\n",
      "  Number Of Pieces: 1\n",
      "  Piece: -1\n",
      "  Ghost Level: 0\n",
      "  CellsBounds: \n",
      "    Xmin,Xmax: (1, -1)\n",
      "    Ymin,Ymax: (1, -1)\n",
      "    Zmin,Zmax: (1, -1)\n",
      "  CellsBounds Time: 0\n",
      "\n",
      "\n"
     ]
    }
   ],
   "source": [
    "# vtk data for the junctions\n",
    "PMJPoints = vtk.vtkPoints()\n",
    "for p in epts:\n",
    "    PMJPoints.InsertNextPoint(p)\n",
    "PMJunc = vtk.vtkPolyData()\n",
    "PMJunc.SetPoints(PMJPoints)\n",
    "\n",
    "probe = vtk.vtkProbeFilter()\n",
    "probe.SetSourceData(reader.GetOutput())\n",
    "probe.SetInputData(reader2.GetOutput())\n",
    "probe.Update()\n",
    "\n",
    "da = dsa.WrapDataObject(probe.GetOutput())\n",
    "vv = da.PointData['activation']\n",
    "\n",
    "print(PMJunc)"
   ]
  }
 ],
 "metadata": {
  "kernelspec": {
   "display_name": "Python 3",
   "language": "python",
   "name": "python3"
  },
  "language_info": {
   "codemirror_mode": {
    "name": "ipython",
    "version": 3
   },
   "file_extension": ".py",
   "mimetype": "text/x-python",
   "name": "python",
   "nbconvert_exporter": "python",
   "pygments_lexer": "ipython3",
   "version": "3.10.6"
  },
  "orig_nbformat": 4
 },
 "nbformat": 4,
 "nbformat_minor": 2
}
