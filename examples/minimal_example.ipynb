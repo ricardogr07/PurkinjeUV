{
  "cells": [
    {
      "cell_type": "markdown",
      "metadata": {
        "id": "view-in-github",
        "colab_type": "text"
      },
      "source": [
        "<a href=\"https://colab.research.google.com/github/ricardogr07/purkinje-uv/blob/feat%2Fchange-parameters-to-a-dataclass/examples/minimal_example.ipynb\" target=\"_parent\"><img src=\"https://colab.research.google.com/assets/colab-badge.svg\" alt=\"Open In Colab\"/></a>"
      ]
    },
    {
      "cell_type": "markdown",
      "metadata": {
        "id": "nODDxxemOnc3"
      },
      "source": [
        "# Purkinje-UV: Ellipsoid Demo\n",
        "\n",
        "This notebook demonstrates the full workflow:\n",
        "\n",
        "**mesh → growth → Purkinje tree → activation → save → visualize**\n",
        "\n",
        "You’ll end with a VTU file containing activation times, plus an inline visualization.\n",
        "\n",
        "**Flow**\n",
        "1) Clone the `purkinje-uv` repo (just to get a known `data/ellipsoid.obj` path)  \n",
        "2) Install the local checkout (so we use *that* code)  \n",
        "3) Import libraries & configure logging  \n",
        "4) Define `FractalTreeParameters`  \n",
        "5) Grow the tree  \n",
        "6) Build `PurkinjeTree`, run FIM activation, save VTU  \n",
        "7) Validate output with `meshio`, visualize inline with PyVista\n"
      ],
      "id": "nODDxxemOnc3"
    },
    {
      "cell_type": "markdown",
      "id": "60f68875",
      "metadata": {
        "id": "60f68875"
      },
      "source": [
        "### Installation\n",
        "Use one of the following:\n",
        "\n",
        "**From PyPI (if available)**\n",
        "```bash\n",
        "pip install purkinje_uv numpy meshio pyvista pyvistaqt"
      ]
    },
    {
      "cell_type": "code",
      "execution_count": null,
      "id": "136552d8",
      "metadata": {
        "id": "136552d8"
      },
      "outputs": [],
      "source": [
        "# Install core runtime dependencies.\n",
        "# NOTE: If you already have these locally, you can skip this cell.\n",
        "%pip -q install --upgrade pip\n",
        "%pip -q install numpy meshio pyvista pyvistaqt"
      ]
    },
    {
      "cell_type": "markdown",
      "id": "1453563f",
      "metadata": {
        "id": "1453563f"
      },
      "source": [
        "## Download or reuse the `purkinje-uv` repository\n",
        "\n",
        "We clone the repository so we can reference `data/ellipsoid.obj` with a known relative path.  \n",
        "The cell will try `git clone` first, then fall back to a ZIP download if needed.\n"
      ]
    },
    {
      "cell_type": "code",
      "execution_count": null,
      "id": "e3fb09ff",
      "metadata": {
        "id": "e3fb09ff"
      },
      "outputs": [],
      "source": [
        "from pathlib import Path\n",
        "\n",
        "REPO_URL = \"https://github.com/ricardogr07/purkinje-uv\"\n",
        "DEST_DIR = Path(\"external/purkinje-uv\")\n",
        "\n",
        "if not DEST_DIR.exists():\n",
        "    DEST_DIR.parent.mkdir(parents=True, exist_ok=True)\n",
        "    print(\"Cloning purkinje-uv…\")\n",
        "    !git clone --depth 1 {REPO_URL} {str(DEST_DIR)}\n",
        "else:\n",
        "    print(\"Using existing checkout:\", DEST_DIR)\n",
        "\n",
        "REPO_ROOT = DEST_DIR.resolve()\n",
        "MESH_PATH = REPO_ROOT / \"data\" / \"ellipsoid.obj\"\n",
        "assert MESH_PATH.exists(), f\"Expected mesh not found at: {MESH_PATH}\"\n",
        "\n",
        "print(\"Repo root:\", REPO_ROOT)\n",
        "print(\"Mesh path:\", MESH_PATH)"
      ]
    },
    {
      "cell_type": "code",
      "source": [
        "# Install the local repo\n",
        "!pip -q install -e {str(REPO_ROOT)}\n",
        "\n",
        "# Ensure runtime dependencies are present (matches demo flow)\n",
        "!pip -q install numpy meshio pyvista pyvistaqt pythreejs"
      ],
      "metadata": {
        "id": "WJUhI45gPIoV"
      },
      "id": "WJUhI45gPIoV",
      "execution_count": null,
      "outputs": []
    },
    {
      "cell_type": "code",
      "source": [
        "from pathlib import Path\n",
        "\n",
        "print(\"REPO_ROOT:\", REPO_ROOT)\n",
        "print(\"Top-level files/dirs:\")\n",
        "!ls -la {str(REPO_ROOT)}\n",
        "print(\"\\nLikely src layout (if present):\")\n",
        "!ls -la {str(REPO_ROOT / 'src')}"
      ],
      "metadata": {
        "id": "55tnejIeVIHK"
      },
      "id": "55tnejIeVIHK",
      "execution_count": null,
      "outputs": []
    },
    {
      "cell_type": "code",
      "source": [
        "import sys\n",
        "from pathlib import Path\n",
        "\n",
        "# If the editable install didn’t take, fall back to adding src/ manually.\n",
        "src_path = REPO_ROOT / \"src\"\n",
        "pkg_root = src_path if src_path.exists() else REPO_ROOT\n",
        "\n",
        "if str(pkg_root) not in sys.path:\n",
        "    sys.path.insert(0, str(pkg_root))\n",
        "\n",
        "import importlib\n",
        "import purkinje_uv\n",
        "\n",
        "print(\"purkinje_uv loaded from:\", purkinje_uv.__file__)\n",
        "\n",
        "# Now import the symbols you need\n",
        "from purkinje_uv import FractalTree, FractalTreeParameters, PurkinjeTree\n",
        "print(\"Symbol imports OK.\")\n"
      ],
      "metadata": {
        "id": "0Q7WaRHnVNd9"
      },
      "id": "0Q7WaRHnVNd9",
      "execution_count": null,
      "outputs": []
    },
    {
      "cell_type": "code",
      "source": [
        "from __future__ import annotations\n",
        "\n",
        "import logging\n",
        "from pathlib import Path\n",
        "\n",
        "import numpy as np\n",
        "import meshio\n",
        "import pyvista as pv\n",
        "\n",
        "from purkinje_uv import FractalTree, FractalTreeParameters, PurkinjeTree\n",
        "\n",
        "logging.basicConfig(level=logging.INFO)\n",
        "logger = logging.getLogger(\"purkinje_uv.examples.ellipsoid_demo\")\n",
        "\n",
        "print(\"Imports OK.\")"
      ],
      "metadata": {
        "id": "xJwytbmgPWIo"
      },
      "id": "xJwytbmgPWIo",
      "execution_count": null,
      "outputs": []
    },
    {
      "cell_type": "markdown",
      "id": "757bfc20",
      "metadata": {
        "id": "757bfc20"
      },
      "source": [
        "## Locate mesh file\n",
        "The examples assume an ellipsoid mesh at `data/ellipsoid.obj`."
      ]
    },
    {
      "cell_type": "code",
      "execution_count": null,
      "id": "cee6e342",
      "metadata": {
        "id": "cee6e342"
      },
      "outputs": [],
      "source": [
        "meshfile = Path(MESH_PATH)\n",
        "print(f\"Using mesh: {MESH_PATH}\")"
      ]
    },
    {
      "cell_type": "markdown",
      "id": "0a93514e",
      "metadata": {
        "id": "0a93514e"
      },
      "source": [
        "## Configure parameters\n",
        "\n",
        "`FractalTree` reads `meshfile` from the parameters and computes UV scaling internally.  \n",
        "We serialize parameters to JSON for reproducibility."
      ]
    },
    {
      "cell_type": "code",
      "execution_count": null,
      "id": "74ab5ad0",
      "metadata": {
        "id": "74ab5ad0"
      },
      "outputs": [],
      "source": [
        "lseg = 0.01\n",
        "p = FractalTreeParameters(\n",
        "    meshfile=str(MESH_PATH),\n",
        "    init_node_id=738,\n",
        "    second_node_id=210,\n",
        "    l_segment=lseg,\n",
        "    init_length=0.3,\n",
        "    length=0.15,\n",
        "    fascicles_length=[20 * lseg, 40 * lseg],\n",
        "    fascicles_angles=[-0.4, 0.5],  # radians\n",
        ")\n",
        "\n",
        "params_json = REPO_ROOT / \"examples\" / \"params.json\"\n",
        "params_json.parent.mkdir(parents=True, exist_ok=True)\n",
        "p.to_json_file(str(params_json))\n",
        "\n",
        "print(\"Saved params to:\", params_json)"
      ]
    },
    {
      "cell_type": "markdown",
      "id": "a233c49d",
      "metadata": {
        "id": "a233c49d"
      },
      "source": [
        "## Grow fractal tree on the surface"
      ]
    },
    {
      "cell_type": "code",
      "execution_count": null,
      "id": "0d326133",
      "metadata": {
        "id": "0d326133"
      },
      "outputs": [],
      "source": [
        "tree = FractalTree(p)\n",
        "tree.grow_tree()\n",
        "\n",
        "print(\n",
        "    f\"Tree grown → nodes={len(tree.nodes_xyz)}, \"\n",
        "    f\"segments={len(tree.connectivity)}, end_nodes={len(tree.end_nodes)}\"\n",
        ")"
      ]
    },
    {
      "cell_type": "markdown",
      "id": "7af9c7b0",
      "metadata": {
        "id": "7af9c7b0"
      },
      "source": [
        "## Build Purkinje tree, run activation (FIM), save VTU, and sanity-check with `meshio`"
      ]
    },
    {
      "cell_type": "code",
      "execution_count": null,
      "id": "7d155253",
      "metadata": {
        "id": "7d155253"
      },
      "outputs": [],
      "source": [
        "Ptree = PurkinjeTree(\n",
        "    np.asarray(tree.nodes_xyz),\n",
        "    np.asarray(tree.connectivity),\n",
        "    np.asarray(tree.end_nodes),\n",
        ")\n",
        "\n",
        "act = Ptree.activate_fim([0], [0.0], return_only_pmj=False)\n",
        "pmj = Ptree.pmj\n",
        "\n",
        "assert isinstance(act, np.ndarray) and act.ndim == 1\n",
        "assert pmj is not None and np.all((pmj >= 0) & (pmj < act.shape[0]))\n",
        "print(f\"Activation computed → length={act.shape[0]}, PMJs={pmj.size}\")\n",
        "\n",
        "out_dir = REPO_ROOT / \"examples\" / \"output\"\n",
        "out_dir.mkdir(parents=True, exist_ok=True)\n",
        "out_file = out_dir / \"ellipsoid_purkinje_AT.vtu\"\n",
        "Ptree.save(str(out_file))\n",
        "print(\"Saved:\", out_file)\n",
        "\n",
        "m = meshio.read(str(out_file))\n",
        "print(\n",
        "    f\"meshio OK → points={m.points.shape[0]}, cells={sum(len(c.data) for c in m.cells)}\"\n",
        ")"
      ]
    },
    {
      "cell_type": "markdown",
      "id": "5c3b4a7e",
      "metadata": {
        "id": "5c3b4a7e"
      },
      "source": [
        "## Visualize with PyVista (inline)\n",
        "\n",
        "We attempt to use the `pythreejs` backend for inline rendering.  \n",
        "If the backend is unavailable, we’ll save a screenshot instead."
      ]
    },
    {
      "cell_type": "code",
      "source": [
        "%pip -q install ipywidgets pythreejs\n",
        "from google.colab import output\n",
        "output.enable_custom_widget_manager()"
      ],
      "metadata": {
        "id": "SzKlZRNdV-3N"
      },
      "id": "SzKlZRNdV-3N",
      "execution_count": null,
      "outputs": []
    },
    {
      "cell_type": "code",
      "source": [
        "%pip -q install \"trame>=3\" trame-vtk trame-vuetify"
      ],
      "metadata": {
        "id": "-Ad2RJerWM29"
      },
      "id": "-Ad2RJerWM29",
      "execution_count": null,
      "outputs": []
    },
    {
      "cell_type": "code",
      "execution_count": null,
      "id": "ddd2fad1",
      "metadata": {
        "id": "ddd2fad1"
      },
      "outputs": [],
      "source": [
        "# --- Colab-safe PyVista visualization (HTML backend + embedded fallback) ---\n",
        "\n",
        "import pyvista as pv\n",
        "from IPython.display import HTML, display\n",
        "\n",
        "def pick_scalar(ds):\n",
        "    preferred = [\"Activation\", \"AT\", \"activation_time\", \"time_activation\"]\n",
        "    for name in preferred:\n",
        "        if name in ds.array_names:\n",
        "            return name\n",
        "    if ds.point_data:\n",
        "        return list(ds.point_data.keys())[0]\n",
        "    if ds.cell_data:\n",
        "        return list(ds.cell_data.keys())[0]\n",
        "    return None\n",
        "\n",
        "def to_tubes(ds, radius=0.003):\n",
        "    try:\n",
        "        return ds.tube(radius=radius)\n",
        "    except Exception:\n",
        "        return ds\n",
        "\n",
        "ds = pv.read(str(out_file))\n",
        "scal_name = pick_scalar(ds)\n",
        "vis = to_tubes(ds, radius=0.003)\n",
        "\n",
        "# 1) Prefer the pure-HTML backend (no localhost/server)\n",
        "try:\n",
        "    pv.global_theme.jupyter_backend = \"html\"   # valid backends: \"static\",\"client\",\"server\",\"trame\",\"html\",\"none\"\n",
        "    print(\"Using PyVista backend:\", pv.global_theme.jupyter_backend)\n",
        "\n",
        "    p = pv.Plotter(notebook=True)\n",
        "    p.add_mesh(\n",
        "        vis,\n",
        "        scalars=scal_name if scal_name else None,\n",
        "        show_scalar_bar=bool(scal_name),\n",
        "        scalar_bar_args={\"title\": scal_name or \"\"},\n",
        "    )\n",
        "    p.show(title=\"Purkinje VTU (ellipsoid)\")   # should render right in the cell\n",
        "except Exception as e_html_backend:\n",
        "    print(\"Direct HTML backend render failed:\", e_html_backend)\n",
        "\n",
        "    # 2) Self-contained HTML export and embed (no web server)\n",
        "    try:\n",
        "        html_path = out_dir / \"ellipsoid_view.html\"\n",
        "\n",
        "        # Use an offscreen renderer to guarantee scene is built\n",
        "        try:\n",
        "            pv.start_xvfb()  # no-op if not needed\n",
        "        except Exception:\n",
        "            pass\n",
        "\n",
        "        p = pv.Plotter(off_screen=True)\n",
        "        p.add_mesh(\n",
        "            vis,\n",
        "            scalars=scal_name if scal_name else None,\n",
        "            show_scalar_bar=bool(scal_name),\n",
        "            scalar_bar_args={\"title\": scal_name or \"\"},\n",
        "        )\n",
        "        # export a standalone HTML (threejs) and embed its contents\n",
        "        p.export_html(str(html_path))\n",
        "        display(HTML(html_path.read_text(encoding=\"utf-8\")))\n",
        "        print(\"Embedded exported HTML:\", html_path)\n",
        "    except Exception as e_export:\n",
        "        print(\"HTML export/embed failed:\", e_export)\n",
        "\n",
        "        # 3) Last resort: save a screenshot and display it\n",
        "        try:\n",
        "            img_path = out_dir / \"ellipsoid_render.png\"\n",
        "            p = pv.Plotter(off_screen=True)\n",
        "            p.add_mesh(\n",
        "                vis,\n",
        "                scalars=scal_name if scal_name else None,\n",
        "                show_scalar_bar=bool(scal_name),\n",
        "                scalar_bar_args={\"title\": scal_name or \"\"},\n",
        "            )\n",
        "            p.show(screenshot=str(img_path))\n",
        "            from IPython.display import Image\n",
        "            display(Image(filename=str(img_path)))\n",
        "            print(\"Screenshot fallback saved:\", img_path)\n",
        "        except Exception as e_ss:\n",
        "            print(\"Screenshot fallback failed:\", e_ss)"
      ]
    }
  ],
  "metadata": {
    "kernelspec": {
      "display_name": "Python 3",
      "name": "python3"
    },
    "language_info": {
      "codemirror_mode": {
        "name": "ipython",
        "version": 3
      },
      "file_extension": ".py",
      "mimetype": "text/x-python",
      "name": "python",
      "nbconvert_exporter": "python",
      "pygments_lexer": "ipython3",
      "version": "3.10.6"
    },
    "colab": {
      "provenance": [],
      "gpuType": "T4",
      "include_colab_link": true
    },
    "accelerator": "GPU"
  },
  "nbformat": 4,
  "nbformat_minor": 5
}